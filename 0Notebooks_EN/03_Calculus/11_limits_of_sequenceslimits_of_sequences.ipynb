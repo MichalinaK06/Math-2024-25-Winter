{
  "nbformat": 4,
  "nbformat_minor": 0,
  "metadata": {
    "colab": {
      "provenance": []
    },
    "kernelspec": {
      "name": "python3",
      "display_name": "Python 3"
    },
    "language_info": {
      "name": "python"
    }
  },
  "cells": [
    {
      "cell_type": "markdown",
      "source": [
        "#notes\n"
      ],
      "metadata": {
        "id": "FnNN7y2JI4NE"
      }
    },
    {
      "cell_type": "markdown",
      "source": [
        "# Limits of Sequences\n",
        "\n",
        "1. **Limits at Infinity:**\n",
        "   - If the highest power in numerator and denominator are the same:  \n",
        "     $$\\lim_{n \\to \\infty} \\frac{a_n}{b_n} = \\frac{\\text{coefficient of highest degree in numerator}}{\\text{coefficient of highest degree in denominator}}$$\n",
        "   - If the degree of numerator > degree of denominator:  \n",
        "     $$\\lim_{n \\to \\infty} \\frac{a_n}{b_n} = \\infty$$\n",
        "   - If the degree of numerator < degree of denominator:  \n",
        "     $$\\lim_{n \\to \\infty} \\frac{a_n}{b_n} = 0$$\n",
        "\n",
        "2. **Squeeze Theorem:**\n",
        "   - If $a_n \\leq b_n \\leq c_n$ and $\\lim_{n \\to \\infty} a_n = \\lim_{n \\to \\infty} c_n = L$,  \n",
        "     then $\\lim_{n \\to \\infty} b_n = L$.\n",
        "\n",
        "3. **Euler's Number Approximation:**\n",
        "   - $$\\lim_{n \\to \\infty} \\left(1 + \\frac{1}{n}\\right)^n = e$$\n",
        "\n",
        "    a³ + 3a²b + 3ab² + b³\n",
        "\n",
        "\n",
        "\n",
        "2. **Special Trigonometric Limits:**\n",
        "   - $$\\lim_{x \\to 0} \\frac{\\sin(x)}{x} = 1$$\n",
        "   - $$\\lim_{x \\to 0} \\frac{\\sin(kx)}{x} = k$$ (where $k$ is a constant)"
      ],
      "metadata": {
        "id": "n1XYFjuDCpPy"
      }
    },
    {
      "cell_type": "markdown",
      "source": [
        "#exerises"
      ],
      "metadata": {
        "id": "8rf-5XlzHL_3"
      }
    },
    {
      "cell_type": "markdown",
      "source": [
        "1.calculate:\n",
        "  $$\\lim_{n \\to \\infty} \\frac{n^2+3n}{2n^2-2n}$$\n",
        "\n",
        "devide everything by $n^2$\n",
        "\n",
        "  $$\\lim_{n \\to \\infty}=\\frac{1+\\frac{3}{n}}{2-\\frac{2}{n}}=\\frac{1}{2}$$\n",
        "\n",
        "\n",
        "\n",
        "\n",
        "---\n",
        "\n",
        "\n",
        "\n",
        "  $$\\lim_{n \\to \\infty} \\frac{(2n+3)^3}{n^3-1}=\\frac{8n^{3}+36n^{2}+54n+27}{n^3-1}$$\n",
        "\n",
        "devide everyching by $n^3$\n",
        "\n",
        " $$\\lim_{n \\to \\infty} \\frac{8n^{3}+36n^{2}+54n+27}{n^3-1}=\\frac{8}{1}=8$$\n"
      ],
      "metadata": {
        "id": "NnamW0XyHNmX"
      }
    },
    {
      "cell_type": "markdown",
      "source": [
        "2.prove using sqeeze theorem:\n",
        "\n",
        "$$\\lim_{n \\to \\infty} \\frac{sin(n)}{n}= 0$$\n",
        "\n",
        "in this case\n",
        "\n",
        "$sin(n) \\leq n  \\leq 0$"
      ],
      "metadata": {
        "id": "LhnUFFu3Jnz6"
      }
    },
    {
      "cell_type": "markdown",
      "source": [
        "3.find the limit of sequence:\n",
        "$$a_n=(1+\\frac{1}{n})^n$$\n",
        "\n",
        "$$\\lim_{n \\to \\infty}(1+\\frac{1}{n})^n=e$$\n",
        "\n",
        "this is aproximate of e(euler) number"
      ],
      "metadata": {
        "id": "iuPP9pJNI_P7"
      }
    }
  ]
}
