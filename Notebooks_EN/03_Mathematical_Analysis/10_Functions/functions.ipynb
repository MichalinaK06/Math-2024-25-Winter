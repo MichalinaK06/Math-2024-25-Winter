{
  "nbformat": 4,
  "nbformat_minor": 0,
  "metadata": {
    "colab": {
      "provenance": []
    },
    "kernelspec": {
      "name": "python3",
      "display_name": "Python 3"
    },
    "language_info": {
      "name": "python"
    }
  },
  "cells": [
    {
      "cell_type": "markdown",
      "source": [
        "3.Let $f(x)=e^x$ and $g(x)=ln(x)$. Check: f(g(x)) and g(f(x)). What do you notice?\n",
        "\n",
        "4.We have function f=(1,7),(2,9),(3,11). Give inverse function $f^{-1}$.\n",
        "\n",
        "We have function f=(1,7),(2,7),(3,11).Give inverse function $f^{−1}$.\n",
        "\n",
        "We have function f(x)=x−1. Give inverse function $f^{−1}$. Show both functions on the same Geogebra notebook."
      ],
      "metadata": {
        "id": "TRvFc15wOCrq"
      }
    },
    {
      "cell_type": "markdown",
      "source": [
        "#notes"
      ],
      "metadata": {
        "id": "1dpZvdrURYvp"
      }
    },
    {
      "cell_type": "markdown",
      "source": [
        "#exercises"
      ],
      "metadata": {
        "id": "GRWpDIN2RZ-5"
      }
    },
    {
      "cell_type": "markdown",
      "source": [
        "1.Draw in a single Geogebra notebook the following functions:\n",
        "\n",
        "$f(x)=x^2$\n",
        "\n",
        "$g(x)=\\sqrt x$\n",
        "\n",
        "$h(x)=\\frac{1}{x}$\n",
        "\n",
        "$j(x)=sin⁡(x)$\n",
        "\n",
        "Find value of all the above functions at\n",
        "x=2.\n",
        "\n",
        "$f(2)=2^2=4$\n",
        "\n",
        "$g(2)=\\sqrt 2=1.41$\n",
        "\n",
        "$h(2)=\\frac{1}{2}$\n",
        "\n",
        "$j(2)=sin⁡(2)=0.909$\n",
        "\n",
        "https://www.geogebra.org/calculator/xsqtegtc\n"
      ],
      "metadata": {
        "id": "RNywOfWqRe67"
      }
    },
    {
      "cell_type": "markdown",
      "source": [
        "2.Let $f(x)=3x−1$ and $g(x)=\\sqrt x$. Find:\n",
        "\n",
        "a) $f(g(x))$\n",
        "\n",
        "b) $g(f(x))$\n",
        "\n",
        "c) $f(f(x))$\n",
        "\n",
        "d) $g(g(x))$\n",
        "\n",
        "and visualize functions in a single Geogebra notebook.\n",
        "\n",
        "a) $f(g(x))=3\\sqrt x -1$\n",
        "\n",
        "b) $g(f(x))=\\sqrt{3x-1}$\n",
        "\n",
        "c) $f(f(x))=3(3x-1)-1=9x-3-1=9x-4$\n",
        "\n",
        "d) $g(g(x))=\\sqrt{\\sqrt x}=x^{\\frac{1}{4}}$\n",
        "\n",
        "https://www.geogebra.org/calculator/ncze6zn4"
      ],
      "metadata": {
        "id": "9kiOZb2WS71q"
      }
    }
  ]
}
