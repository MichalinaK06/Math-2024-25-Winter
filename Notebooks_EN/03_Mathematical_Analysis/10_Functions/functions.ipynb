{
  "nbformat": 4,
  "nbformat_minor": 0,
  "metadata": {
    "colab": {
      "provenance": []
    },
    "kernelspec": {
      "name": "python3",
      "display_name": "Python 3"
    },
    "language_info": {
      "name": "python"
    }
  },
  "cells": [
    {
      "cell_type": "markdown",
      "source": [
        "3.Let $f(x)=e^x$ and $g(x)=ln(x)$. Check: f(g(x)) and g(f(x)). What do you notice?\n",
        "\n",
        "4.We have function f=(1,7),(2,9),(3,11). Give inverse function $f^{-1}$.\n",
        "\n",
        "We have function f=(1,7),(2,7),(3,11).Give inverse function $f^{−1}$.\n",
        "\n",
        "We have function f(x)=x−1. Give inverse function $f^{−1}$. Show both functions on the same Geogebra notebook."
      ],
      "metadata": {
        "id": "TRvFc15wOCrq"
      }
    },
    {
      "cell_type": "markdown",
      "source": [
        "# Useful Formulas for Functions, Limits of Sequences, and Real Functions\n",
        "\n",
        "## Functions\n",
        "\n",
        "1. **Composition of Functions:**\n",
        "   - $f(g(x)) = f\\big(g(x)\\big)$\n",
        "   - $g(f(x)) = g\\big(f(x)\\big)$\n",
        "   - $f(f(x)) = f\\big(f(x)\\big)$\n",
        "   - $g(g(x)) = g\\big(g(x)\\big)$\n",
        "\n",
        "2. **Inverse Functions:**\n",
        "   - If $f(a) = b$, then $f^{-1}(b) = a$.\n",
        "   - For $f(x) = x - 1$, inverse is found by solving $y = x - 1$ for $x$:  \n",
        "     $$f^{-1}(x) = x + 1$$\n",
        "\n",
        "3. **Trigonometric Functions:**\n",
        "   - $\\sin(-x) = -\\sin(x)$\n",
        "   - $\\cos(-x) = \\cos(x)$\n",
        "   - Periodicity of sine: $\\sin(x + 2\\pi) = \\sin(x)$\n",
        "\n",
        "4. **Exponential and Logarithmic Properties:**\n",
        "   - $e^{\\ln(x)} = x$ (for $x > 0$)\n",
        "   - $\\ln(e^x) = x$\n",
        "\n",
        "---\n",
        "\n",
        "## Limits of Sequences\n",
        "\n",
        "1. **Limits at Infinity:**\n",
        "   - If the highest power in numerator and denominator are the same:  \n",
        "     $$\\lim_{n \\to \\infty} \\frac{a_n}{b_n} = \\frac{\\text{coefficient of highest degree in numerator}}{\\text{coefficient of highest degree in denominator}}$$\n",
        "   - If the degree of numerator > degree of denominator:  \n",
        "     $$\\lim_{n \\to \\infty} \\frac{a_n}{b_n} = \\infty$$\n",
        "   - If the degree of numerator < degree of denominator:  \n",
        "     $$\\lim_{n \\to \\infty} \\frac{a_n}{b_n} = 0$$\n",
        "\n",
        "2. **Squeeze Theorem:**\n",
        "   - If $a_n \\leq b_n \\leq c_n$ and $\\lim_{n \\to \\infty} a_n = \\lim_{n \\to \\infty} c_n = L$,  \n",
        "     then $\\lim_{n \\to \\infty} b_n = L$.\n",
        "\n",
        "3. **Euler's Number Approximation:**\n",
        "   - $$\\lim_{n \\to \\infty} \\left(1 + \\frac{1}{n}\\right)^n = e$$\n",
        "\n",
        "---\n",
        "\n",
        "## Limits of Real Functions\n",
        "\n",
        "1. **Limits at Infinity:**\n",
        "   - If $f(x) = \\frac{P(x)}{Q(x)}$ (polynomials $P(x)$ and $Q(x)$):\n",
        "     - Compare degrees of $P(x)$ and $Q(x)$:\n",
        "       - Degree of $P(x) > Q(x)$: $\\lim_{x \\to \\infty} f(x) = \\infty$\n",
        "       - Degree of $P(x) < Q(x)$: $\\lim_{x \\to \\infty} f(x) = 0$\n",
        "       - Degree of $P(x) = Q(x)$: $\\lim_{x \\to \\infty} f(x) = \\frac{\\text{leading coefficient of } P}{\\text{leading coefficient of } Q}$\n",
        "\n",
        "2. **Special Trigonometric Limits:**\n",
        "   - $$\\lim_{x \\to 0} \\frac{\\sin(x)}{x} = 1$$\n",
        "   - $$\\lim_{x \\to 0} \\frac{\\sin(kx)}{x} = k$$ (where $k$ is a constant)\n",
        "\n",
        "3. **Asymptotes:**\n",
        "   - Horizontal Asymptote: $\\lim_{x \\to \\infty} f(x)$ or $\\lim_{x \\to -\\infty} f(x)$\n",
        "   - Vertical Asymptote: Set denominator = 0 and solve for $x$ (if applicable).\n",
        "\n",
        "---\n",
        "\n",
        "## Additional Notes\n",
        "\n",
        "1. **Basic Differentiation Rules (useful for limits involving $\\sin$ and $\\ln$):**\n",
        "   - $\\frac{d}{dx} [\\sin(x)] = \\cos(x)$\n",
        "   - $\\frac{d}{dx} [\\ln(x)] = \\frac{1}{x}$\n",
        "\n",
        "2. **Expanding Powers (Binomial Theorem):**\n",
        "   - For large $n$, expand $(1 + x)^n$ as:\n",
        "     $$1 + nx + \\frac{n(n-1)}{2}x^2 + \\cdots$$\n",
        "\n",
        "3. **Substitution in Limits:**\n",
        "   - Replace expressions with equivalent forms (e.g., $\\sin(3x) \\approx 3x$ as $x \\to 0$).\n"
      ],
      "metadata": {
        "id": "sp9Jo5_kXxiB"
      }
    },
    {
      "cell_type": "markdown",
      "source": [
        "#notes"
      ],
      "metadata": {
        "id": "1dpZvdrURYvp"
      }
    },
    {
      "cell_type": "markdown",
      "source": [
        "#exercises"
      ],
      "metadata": {
        "id": "GRWpDIN2RZ-5"
      }
    },
    {
      "cell_type": "markdown",
      "source": [
        "1.Draw in a single Geogebra notebook the following functions:\n",
        "\n",
        "$f(x)=x^2$\n",
        "\n",
        "$g(x)=\\sqrt x$\n",
        "\n",
        "$h(x)=\\frac{1}{x}$\n",
        "\n",
        "$j(x)=sin⁡(x)$\n",
        "\n",
        "Find value of all the above functions at\n",
        "x=2.\n",
        "\n",
        "$f(2)=2^2=4$\n",
        "\n",
        "$g(2)=\\sqrt 2=1.41$\n",
        "\n",
        "$h(2)=\\frac{1}{2}$\n",
        "\n",
        "$j(2)=sin⁡(2)=0.909$\n",
        "\n",
        "https://www.geogebra.org/calculator/xsqtegtc\n"
      ],
      "metadata": {
        "id": "RNywOfWqRe67"
      }
    },
    {
      "cell_type": "markdown",
      "source": [
        "2.Let $f(x)=3x−1$ and $g(x)=\\sqrt x$. Find:\n",
        "\n",
        "a) $f(g(x))$\n",
        "\n",
        "b) $g(f(x))$\n",
        "\n",
        "c) $f(f(x))$\n",
        "\n",
        "d) $g(g(x))$\n",
        "\n",
        "and visualize functions in a single Geogebra notebook.\n",
        "\n",
        "a) $f(g(x))=3\\sqrt x -1$\n",
        "\n",
        "b) $g(f(x))=\\sqrt{3x-1}$\n",
        "\n",
        "c) $f(f(x))=3(3x-1)-1=9x-3-1=9x-4$\n",
        "\n",
        "d) $g(g(x))=\\sqrt{\\sqrt x}=x^{\\frac{1}{4}}$\n",
        "\n",
        "https://www.geogebra.org/calculator/ncze6zn4"
      ],
      "metadata": {
        "id": "9kiOZb2WS71q"
      }
    }
  ]
}