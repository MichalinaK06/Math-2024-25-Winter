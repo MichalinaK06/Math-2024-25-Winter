{
  "nbformat": 4,
  "nbformat_minor": 0,
  "metadata": {
    "colab": {
      "provenance": []
    },
    "kernelspec": {
      "name": "python3",
      "display_name": "Python 3"
    },
    "language_info": {
      "name": "python"
    }
  },
  "cells": [
    {
      "cell_type": "markdown",
      "source": [
        "1.calculate:\n",
        "  $$\\lim_{n \\to \\infty} \\frac{n^2+3n}{2n^2-2n}$$\n",
        "\n",
        "  $$\\lim_{n \\to \\infty} \\frac{(2n+3)^3}{n^3-1}$$\n",
        "\n",
        "\n",
        "2.prove using sqeeze theorem:\n",
        "\n",
        "$$\\lim_{n \\to \\infty} \\frac{sin(n)}{n}$$\n",
        "\n",
        "3.find the limit of sequence:\n",
        "$$a_n=(1+\\frac{1}{n})^n$$"
      ],
      "metadata": {
        "id": "SB564oGHBqb8"
      }
    }
  ]
}