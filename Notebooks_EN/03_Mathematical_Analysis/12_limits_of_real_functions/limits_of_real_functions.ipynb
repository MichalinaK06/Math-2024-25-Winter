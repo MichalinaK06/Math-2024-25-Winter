{
  "nbformat": 4,
  "nbformat_minor": 0,
  "metadata": {
    "colab": {
      "provenance": []
    },
    "kernelspec": {
      "name": "python3",
      "display_name": "Python 3"
    },
    "language_info": {
      "name": "python"
    }
  },
  "cells": [
    {
      "cell_type": "markdown",
      "source": [
        "## Limits of Real Functions\n",
        "\n",
        "1. **Limits at Infinity:**\n",
        "   - If $f(x) = \\frac{P(x)}{Q(x)}$ (polynomials $P(x)$ and $Q(x)$):\n",
        "     - Compare degrees of $P(x)$ and $Q(x)$:\n",
        "       - Degree of $P(x) > Q(x)$: $\\lim_{x \\to \\infty} f(x) = \\infty$\n",
        "       - Degree of $P(x) < Q(x)$: $\\lim_{x \\to \\infty} f(x) = 0$\n",
        "       - Degree of $P(x) = Q(x)$: $\\lim_{x \\to \\infty} f(x) = \\frac{\\text{leading coefficient of } P}{\\text{leading coefficient of } Q}$\n",
        "\n",
        "2. **Special Trigonometric Limits:**\n",
        "   - $$\\lim_{x \\to 0} \\frac{\\sin(x)}{x} = 1$$\n",
        "   - $$\\lim_{x \\to 0} \\frac{\\sin(kx)}{x} = k$$ (where $k$ is a constant)\n",
        "\n",
        "3. **Asymptotes:**\n",
        "   - Horizontal Asymptote: $\\lim_{x \\to \\infty} f(x)$ or $\\lim_{x \\to -\\infty} f(x)$\n",
        "   - Vertical Asymptote: Set denominator = 0 and solve for $x$ (if applicable).\n",
        "\n",
        "---"
      ],
      "metadata": {
        "id": "Tu97DMWVMEjW"
      }
    },
    {
      "cell_type": "markdown",
      "source": [
        "#exercises"
      ],
      "metadata": {
        "id": "kyPSSRphTByq"
      }
    },
    {
      "cell_type": "markdown",
      "source": [
        "1.compute\n",
        "\n",
        "$$\\lim_{x \\to \\infty} \\frac{x^3+2x^2}{x^4-3x^3}=\\lim_{x \\to \\infty}\\frac{x^4(\\frac{1}{x}+\\frac{2}{x^2})}{x^4(1-\\frac{3}{x})}=\\frac{0}{1-0}=0$$\n"
      ],
      "metadata": {
        "id": "qLEEpyz6TDbB"
      }
    },
    {
      "cell_type": "markdown",
      "source": [
        "2.find:\n",
        "\n",
        "$$\\lim_{x \\to 0} \\frac{sin(3x)}{2x+1}=\\frac{sin(0)}{0+1}=\\frac{0}{0+1}=0$$"
      ],
      "metadata": {
        "id": "qqwJ5soeTPfz"
      }
    },
    {
      "cell_type": "markdown",
      "source": [
        "3.Find the asymptotes of the function:\n",
        "\n",
        "$$f(x)=\\frac{x^2-1}{x^2+1}$$\n",
        "\n",
        "1.horizontal asimptote- lim aproaching $\\infty$ and $-\\infty$\n",
        "\n",
        "$$\\lim_{x \\to \\infty} \\frac{x^2-1}{x^2+1}=1$$\n",
        "\n",
        "$$\\lim_{x \\to -\\infty} \\frac{x^2-1}{x^2+1}=1$$\n",
        "\n",
        "horizontal asimptote y=1\n",
        "\n",
        "2.vertical asimptote - denominator=0\n",
        "\n",
        "$x^2+1$ is always >0 so theres not vertical asimptotes\n",
        "\n",
        "\n",
        "---\n",
        "\n",
        "\n",
        "$$g(x)=\\frac{sin(x)}{x^2+1}$$\n",
        "\n",
        "1.horizontal\n",
        "\n",
        "$$\\lim_{x \\to \\infty} \\frac{sin(x)}{x^2+1}=0$$\n",
        "\n",
        "$$\\lim_{x \\to -\\infty} \\frac{sin(x)}{x^2+1}=0$$\n",
        "\n",
        "horizontal asimptote is y=0\n",
        "\n",
        "theres no vertical one\n"
      ],
      "metadata": {
        "id": "1r7zevKQTyGG"
      }
    },
    {
      "cell_type": "markdown",
      "source": [
        "3.Find the asymptotes of the function:\n",
        "\n",
        "$$f(x)=\\frac{x^2-1}{x^2+1}$$\n",
        "\n",
        "$$a=\\lim_{x \\to \\infty} \\frac{\\frac{x^2-1}{x^2+1}}{x} =\\lim_{x \\to \\infty} \\frac{x^2-1}{x^3+x}= \\frac{0}{1}=0$$\n",
        "\n",
        "$$b= \\lim_{x \\to \\infty} (\\frac{x^2-1}{x^2+1}-ax)=\\lim_{x \\to \\infty} \\frac{x^2-1}{x^2+1}=\\frac{1}{1}=1$$\n",
        "\n",
        "asimptotic line is:\n",
        "\n",
        "$y=0 \\cdot x + 1$\n",
        "\n",
        "$y= 1$"
      ],
      "metadata": {
        "id": "2EboNQe9SzIo"
      }
    }
  ]
}