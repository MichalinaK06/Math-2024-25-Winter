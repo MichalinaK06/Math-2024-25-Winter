{
  "nbformat": 4,
  "nbformat_minor": 0,
  "metadata": {
    "colab": {
      "provenance": []
    },
    "kernelspec": {
      "name": "python3",
      "display_name": "Python 3"
    },
    "language_info": {
      "name": "python"
    }
  },
  "cells": [
    {
      "cell_type": "markdown",
      "source": [
        "1.compute\n",
        "\n",
        "$$\\lim_{x \\to \\infty} \\frac{x^3+2x^2}{x^4-3x^3}$$\n",
        "\n",
        "2.find:\n",
        "\n",
        "$$\\lim_{x \\to 0} \\frac{sin(3x)}{2x+1}$$\n",
        "\n",
        "3.Find the asymptotes of the function:\n",
        "\n",
        "$$f(x)=\\frac{x^2-1}{x^2+1}$$\n",
        "\n",
        "$$g(x)=\\frac{sin(x)}{x^2+1}$$"
      ],
      "metadata": {
        "id": "5VaCp6NRMF8M"
      }
    },
    {
      "cell_type": "markdown",
      "source": [
        "## Limits of Real Functions\n",
        "\n",
        "1. **Limits at Infinity:**\n",
        "   - If $f(x) = \\frac{P(x)}{Q(x)}$ (polynomials $P(x)$ and $Q(x)$):\n",
        "     - Compare degrees of $P(x)$ and $Q(x)$:\n",
        "       - Degree of $P(x) > Q(x)$: $\\lim_{x \\to \\infty} f(x) = \\infty$\n",
        "       - Degree of $P(x) < Q(x)$: $\\lim_{x \\to \\infty} f(x) = 0$\n",
        "       - Degree of $P(x) = Q(x)$: $\\lim_{x \\to \\infty} f(x) = \\frac{\\text{leading coefficient of } P}{\\text{leading coefficient of } Q}$\n",
        "\n",
        "2. **Special Trigonometric Limits:**\n",
        "   - $$\\lim_{x \\to 0} \\frac{\\sin(x)}{x} = 1$$\n",
        "   - $$\\lim_{x \\to 0} \\frac{\\sin(kx)}{x} = k$$ (where $k$ is a constant)\n",
        "\n",
        "3. **Asymptotes:**\n",
        "   - Horizontal Asymptote: $\\lim_{x \\to \\infty} f(x)$ or $\\lim_{x \\to -\\infty} f(x)$\n",
        "   - Vertical Asymptote: Set denominator = 0 and solve for $x$ (if applicable).\n",
        "\n",
        "---"
      ],
      "metadata": {
        "id": "Tu97DMWVMEjW"
      }
    }
  ]
}