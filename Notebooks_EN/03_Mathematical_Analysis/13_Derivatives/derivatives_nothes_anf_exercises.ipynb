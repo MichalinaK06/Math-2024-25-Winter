{
  "nbformat": 4,
  "nbformat_minor": 0,
  "metadata": {
    "colab": {
      "provenance": []
    },
    "kernelspec": {
      "name": "python3",
      "display_name": "Python 3"
    },
    "language_info": {
      "name": "python"
    }
  },
  "cells": [
    {
      "cell_type": "markdown",
      "source": [
        "#notes"
      ],
      "metadata": {
        "id": "e0FbbUQofxwP"
      }
    },
    {
      "cell_type": "markdown",
      "source": [
        "power rule\n",
        "\n",
        "$$\\frac{d}{dx} (x^n)=n \\times x^{n-1}$$"
      ],
      "metadata": {
        "id": "a-kSA_5-fxOB"
      }
    },
    {
      "cell_type": "markdown",
      "source": [
        "#exercieses"
      ],
      "metadata": {
        "id": "7NJw9ZVzft44"
      }
    },
    {
      "cell_type": "markdown",
      "source": [
        "Compute derivatives of functions:\n",
        "\n",
        "a) $y(x)=−3x+3$\n",
        "\n",
        "$y'(x)=-3$\n",
        "\n",
        "---\n",
        "$y(x)=πx+sin(1)$\n",
        "\n",
        "$y(x)=4+sin(2)$\n",
        "\n",
        "---\n",
        "d) $y(x)=2x^3−3x^2+8x−9$\n",
        "\n",
        "   $y'(x)=2(3x^2)-3(2x)+8 =6x^2-6x+8$\n",
        "\n",
        "---\n",
        "e) $y(x)=6x^{\\frac{1}{3}}$\n",
        "\n",
        "   $y'(x)=6(\\frac{1}{3}x^{-\\frac{2}{3}})= 6(\\frac{1}{3}x^{-\\frac{2}{3}})= 2x^{-\\frac{2}{3}}=2 {(\\frac{1}{x})}^{\\frac{2}{3}}=2 \\sqrt[3]{(\\frac{1}{x})^2}$\n",
        "\n",
        "---\n",
        "f) $y(x)=\\sqrt x$\n",
        "  \n",
        "  $y'(x)=x^{\\frac{1}{2}}=\\frac{1}{2} x^{-\\frac{1}{2}}=\\frac{1}{2} \\sqrt{\\frac{1}{x}}$\n",
        "\n",
        "---\n",
        "$y(x)=cos⁡(x)+sin(x)$\n",
        "\n",
        "$y(x)=2sin⁡(x)cos(x)$\n",
        "\n",
        "$y(x)=xsin⁡(x)$\n",
        "\n",
        "---\n",
        "j)$y(x)=(x+1)(x+1)$\n",
        "\n",
        "  $y'(x)=x^2+2x+1=2x+2$\n",
        "\n",
        "---\n",
        "$y(x)=\\frac{x}{x+1}$\n",
        "\n",
        "$y(x)=(x+1)exp⁡(x)$\n",
        "\n",
        "$y(x)=sin(x^2)$\n",
        "\n",
        "$y(x)=exp⁡(−2x)$\n",
        "\n",
        "$y(x)=\\frac{1}{sin(x+1)}$\n",
        "\n",
        "$y(x)=\\sqrt{2x+1}$"
      ],
      "metadata": {
        "id": "irXfEaD-_vgf"
      }
    },
    {
      "cell_type": "markdown",
      "source": [
        "Prove:\n",
        "\n",
        "$\\frac{d}{dx}(ln⁡(sin⁡(x)))=cot⁡(x)$"
      ],
      "metadata": {
        "id": "Wv2DLzT_B6td"
      }
    },
    {
      "cell_type": "markdown",
      "source": [
        "For $f(x)=cos⁡(x)$, verify that $f″(x)=−f(x)$."
      ],
      "metadata": {
        "id": "qcg8rVwICOy5"
      }
    },
    {
      "cell_type": "markdown",
      "source": [
        "Using de l'Hospital's Rule, find the improper limits:\n",
        "\n",
        "$$\\lim_{x \\to 0} \\frac{sin (x)}{x}$$\n",
        "\n",
        "$$\\lim_{x \\to \\infty} \\frac{ln(x)}{x}$$\n",
        "\n",
        "$$\\lim_{x \\to \\infty} \\frac{exp(x)}{x}$$\n",
        "\n"
      ],
      "metadata": {
        "id": "em7gD0MNCcFV"
      }
    },
    {
      "cell_type": "markdown",
      "source": [
        "In physics, the position of a particle is given by\n",
        "$x(t)=3t^2−6t+1$. Find the velocity\n",
        "$V(t)=x′(t)$ and acceleration $a(t)=V′(t)=x″(t)$ of the particle at time $t=2$."
      ],
      "metadata": {
        "id": "FNHwmvKUDvRw"
      }
    },
    {
      "cell_type": "markdown",
      "source": [
        "Understanding the Quotient Rule\n",
        "\n",
        "The quotient rule states that the derivative of a function in the form of f(x) / g(x) is:\n",
        "\n",
        "$\\frac{d}{dx} (\\frac{f(x)}{g(x)}) = \\frac{g(x)f'(x) - f(x)g'(x)}{[g(x)]^2}$\n",
        "\n",
        "Applying the Quotient Rule to Your Function\n",
        "\n",
        "Identify f(x) and g(x):\n",
        "\n",
        "f(x) = x\n",
        "g(x) = x + 1\n",
        "Find the derivatives of f(x) and g(x):\n",
        "\n",
        "f'(x) = 1\n",
        "g'(x) = 1\n",
        "Substitute into the quotient rule formula: $\\frac{d}{dx} (\\frac{x}{x+1}) = \\frac{(x+1)(1) - (x)(1)}{(x+1)^2}$$\\frac{d}{dx} (\\frac{x}{x+1}) = \\frac{(x+1)(1) - (x)(1)}{(x+1)^2}$\n",
        "\n",
        "Simplify: $= \\frac{x + 1 - x}{(x+1)^2}$$= \\frac{x + 1 - x}{(x+1)^2}$ $= \\frac{1}{(x+1)^2}$$= \\frac{1}{(x+1)^2}$\n",
        "\n",
        "Therefore, the derivative of $y(x) = \\frac{x}{x+1}$$y(x) = \\frac{x}{x+1}$ is $\\frac{1}{(x+1)^2}$$\\frac{1}{(x+1)^2}$.\n",
        "\n",
        "I am still under development, and issues like this might occur occasionally. Thank you for bringing it to my attention. I will work on resolving this formatting problem in my future responses."
      ],
      "metadata": {
        "id": "mUUZH5AGqDUS"
      }
    }
  ]
}