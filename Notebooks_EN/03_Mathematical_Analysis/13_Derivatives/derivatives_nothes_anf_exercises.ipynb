{
  "nbformat": 4,
  "nbformat_minor": 0,
  "metadata": {
    "colab": {
      "provenance": []
    },
    "kernelspec": {
      "name": "python3",
      "display_name": "Python 3"
    },
    "language_info": {
      "name": "python"
    }
  },
  "cells": [
    {
      "cell_type": "markdown",
      "source": [
        "Compute derivatives of functions:\n",
        "\n",
        "$y(x)=−3x+3$\n",
        "\n",
        "$y(x)=πx+sin(1)$\n",
        "\n",
        "$y(x)=4+sin(2)$\n",
        "\n",
        "$y(x)=2x^3−3x^2+8x−9$\n",
        "\n",
        "$y(x)=6x^{\\frac{1}{3}}$\n",
        "\n",
        "$y(x)=\\sqrt x$\n",
        "\n",
        "$y(x)=cos⁡(x)+sin(x)$\n",
        "\n",
        "$y(x)=2sin⁡(x)cos(x)$\n",
        "\n",
        "$y(x)=xsin⁡(x)$\n",
        "\n",
        "$y(x)=(x+1)(x+1)$\n",
        "\n",
        "$y(x)=\\frac{x}{x+1}$\n",
        "\n",
        "$y(x)=(x+1)exp⁡(x)$\n",
        "\n",
        "$y(x)=sin(x^2)$\n",
        "\n",
        "$y(x)=exp⁡(−2x)$\n",
        "\n",
        "$y(x)=\\frac{1}{sin(x+1)}$\n",
        "\n",
        "$y(x)=\\sqrt{2x+1}$"
      ],
      "metadata": {
        "id": "irXfEaD-_vgf"
      }
    },
    {
      "cell_type": "markdown",
      "source": [
        "Prove:\n",
        "\n",
        "$\\frac{d}{dx}(ln⁡(sin⁡(x)))=cot⁡(x)$"
      ],
      "metadata": {
        "id": "Wv2DLzT_B6td"
      }
    },
    {
      "cell_type": "markdown",
      "source": [
        "For $f(x)=cos⁡(x)$, verify that $f″(x)=−f(x)$."
      ],
      "metadata": {
        "id": "qcg8rVwICOy5"
      }
    },
    {
      "cell_type": "markdown",
      "source": [
        "Using de l'Hospital's Rule, find the improper limits:\n",
        "\n",
        "$$\\lim_{x \\to 0} \\frac{sin (x)}{x}$$\n",
        "\n",
        "$$\\lim_{x \\to \\infty} \\frac{ln(x)}{x}$$\n",
        "\n",
        "$$\\lim_{x \\to \\infty} \\frac{exp(x)}{x}$$\n",
        "\n"
      ],
      "metadata": {
        "id": "em7gD0MNCcFV"
      }
    },
    {
      "cell_type": "markdown",
      "source": [
        "In physics, the position of a particle is given by\n",
        "$x(t)=3t^2−6t+1$. Find the velocity\n",
        "$V(t)=x′(t)$ and acceleration $a(t)=V′(t)=x″(t)$ of the particle at time $t=2$."
      ],
      "metadata": {
        "id": "FNHwmvKUDvRw"
      }
    }
  ]
}