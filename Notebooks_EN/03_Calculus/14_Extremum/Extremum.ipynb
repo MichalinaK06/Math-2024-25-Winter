{
  "nbformat": 4,
  "nbformat_minor": 0,
  "metadata": {
    "colab": {
      "provenance": []
    },
    "kernelspec": {
      "name": "python3",
      "display_name": "Python 3"
    },
    "language_info": {
      "name": "python"
    }
  },
  "cells": [
    {
      "cell_type": "markdown",
      "source": [
        "#notes"
      ],
      "metadata": {
        "id": "ZrKmAzAbJzcY"
      }
    },
    {
      "cell_type": "markdown",
      "source": [
        "extremum steps\n",
        "\n",
        "\n",
        "1.   derivative\n",
        "2.   derivative=0\n",
        "3.  second derivative\n",
        "\n",
        "If f''(x) > 0: The function is concave up at that point, indicating a local minimum.\n",
        "\n",
        "If f''(x) < 0: The function is concave down at that point, indicating a local maximum.\n",
        "\n",
        "If f''(x) = 0: The test is inconclusive. You might need to use other methods (like the first derivative test) to determine the type of extremum.\n",
        "\n"
      ],
      "metadata": {
        "id": "vCxQusXUN57c"
      }
    },
    {
      "cell_type": "markdown",
      "source": [
        "#exercises"
      ],
      "metadata": {
        "id": "FsJ1H-OPJ1pl"
      }
    },
    {
      "cell_type": "markdown",
      "source": [
        "1.The profit function is $P(u)=−2u^2+50u−300$, where u\n",
        " is the number of units sold. Find the number of units that maximize profit.\n",
        "\n",
        "\n",
        "$$P'(u)=-4u+50\\\\\n",
        "-4u+50=0\\\\\n",
        "u=12 \\frac{1}{2}\\\\\n",
        "f''(u)=-4$$\n",
        "\n",
        "$f''(12 \\frac{1}{2})<0$ so it has a maximum at $u=12 \\frac{1}{2}$\n"
      ],
      "metadata": {
        "id": "ByUcDYxkMh-m"
      }
    },
    {
      "cell_type": "markdown",
      "source": [
        "\n",
        "2.You have 10 meters of string, and you need to use it to enclose the largest possible rectangular. Find the dimensions of the rectangle.\n",
        "\n",
        "we have 10m\n",
        "and perimiter of rectangle is $2a+2b$ so\n",
        "\n",
        "$$2a+2b=10\\\\\n",
        "a=5-b$$\n",
        "\n",
        "sub for area equasion\n",
        "\n",
        "$$A=(5-b) \\cdot b=\\\\\n",
        "5b-b^2$$\n",
        "\n",
        "find extremum\n",
        "\n",
        "$$f(b)=-b^2+5b\\\\\n",
        "f'(b)=-2b+5\\\\\n",
        "-2b+5=0\\\\\n",
        "b=2,5\\\\\n",
        "f''(b)=-2\\\\\n",
        "$$\n",
        "\n",
        "$f(2,5)< 0$ so the maximum is $b=2,5$\n",
        "\n",
        "so the perimiter is\n",
        "\n",
        "$2a+2 \\cdot 2,5 =10\\\\\n",
        "2a+5=10 \\\\\n",
        "a=2,5$\n",
        "\n",
        "so the dimentions of rectange are $2,5 \\times 2,5 \\times 2,5 \\times 2,5$\n",
        "\n",
        "\n"
      ],
      "metadata": {
        "id": "uigMHe9eJ76B"
      }
    },
    {
      "cell_type": "markdown",
      "source": [
        "3.Find extremum of $f(x)=x^2+3x−5$.\n",
        "\n",
        "$$f'(x)=2x+3\\\\\n",
        "2x+3=0\\\\\n",
        "x=- \\frac{3}{2}\\\\\n",
        "f''(x)=2\\\\\n",
        "f''(-\\frac{3}{2})=2$$\n",
        "\n",
        "$f''(-\\frac{3}{2})>0$ this means it has a local minimum at $x=-\\frac{3}{2}$\n"
      ],
      "metadata": {
        "id": "78kLVmTlO7V_"
      }
    },
    {
      "cell_type": "markdown",
      "source": [
        "4.Find extremum of $f(x)=\\frac{x^2+2x+1}{x−1}$.\n",
        "\n",
        "$$f'(x)=\\frac{(2x+2)(x-1)-(x^2+2x+1)(1)}{(x−1)^2}=\\frac{2x^2-2x+2x-2-x^2+2x+1}{x^2-2x+1}=\\frac{x^2+2x-1}{x^2-2x+1}$$\n",
        "\n",
        "\n",
        "$$f''(x)=\\frac{x^2+2x-1}{x^2-2x+1}=$$"
      ],
      "metadata": {
        "id": "8U1eGE0VO-zW"
      }
    }
  ]
}