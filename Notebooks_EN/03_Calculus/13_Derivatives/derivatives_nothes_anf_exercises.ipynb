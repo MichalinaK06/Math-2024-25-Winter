{
  "nbformat": 4,
  "nbformat_minor": 0,
  "metadata": {
    "colab": {
      "provenance": []
    },
    "kernelspec": {
      "name": "python3",
      "display_name": "Python 3"
    },
    "language_info": {
      "name": "python"
    }
  },
  "cells": [
    {
      "cell_type": "markdown",
      "source": [
        "#notes"
      ],
      "metadata": {
        "id": "e0FbbUQofxwP"
      }
    },
    {
      "cell_type": "markdown",
      "source": [
        "product rule\n",
        "\n",
        "$$\\frac{d}{dx} [f(x) \\cdot g(x)] = f'(x) \\cdot g(x) + f(x) \\cdot g'(x)$$"
      ],
      "metadata": {
        "id": "AOaK6FNMla49"
      }
    },
    {
      "cell_type": "markdown",
      "source": [
        "chain rule\n",
        "\n",
        "\n",
        "$$\\frac{dy}{dx} = f'(g(x)) \\cdot g'(x)$$\n",
        "\n",
        "in $y(x)=f(g(x))$"
      ],
      "metadata": {
        "id": "hzD2Maq1ssM6"
      }
    },
    {
      "cell_type": "markdown",
      "source": [
        "quotient rule\n",
        "\n",
        "\n",
        "\n",
        "$$h'(x) = \\frac{f'(x)g(x) - f(x)g'(x)}{g(x)^2}$$\n",
        "\n",
        "in $y(x)=\\frac{f(x)}{g(x)}$"
      ],
      "metadata": {
        "id": "tj-GMJ0_4bJq"
      }
    },
    {
      "cell_type": "markdown",
      "source": [
        "power rule\n",
        "\n",
        "$$\\frac{d}{dx} (x^n)=n \\times x^{n-1}$$"
      ],
      "metadata": {
        "id": "a-kSA_5-fxOB"
      }
    },
    {
      "cell_type": "markdown",
      "source": [
        "\n",
        "\\\n",
        "\\begin{array}{|c|c|}\n",
        "\\hline\n",
        "\\textbf{Function } f(x) & \\textbf{Derivative } f'(x) \\\\ \\hline\n",
        "c & 0 \\\\ \\hline\n",
        "x & 1 \\\\ \\hline\n",
        "x^n & n x^{n-1} \\\\ \\hline\n",
        "e^x & e^x \\\\ \\hline\n",
        "a^x & a^x \\ln(a) \\\\ \\hline\n",
        "\\ln(x) & \\frac{1}{x} \\\\ \\hline\n",
        "\\log_a(x) & \\frac{1}{x \\ln(a)} \\\\ \\hline\n",
        "\\sin(x) & \\cos(x) \\\\ \\hline\n",
        "\\cos(x) & -\\sin(x) \\\\ \\hline\n",
        "\\end{array}"
      ],
      "metadata": {
        "id": "op0VireFd-jl"
      }
    },
    {
      "cell_type": "markdown",
      "source": [
        "l'hospitals rule\n",
        "\n",
        "if limit is $\\frac{0}{0}$ or $\\frac{\\infty}{\\infty}$\n",
        "\n",
        "then:\n",
        "\n",
        "* you take numenator and denominator\n",
        "* make derivatives from them\n",
        "* make a new limit\n",
        "\n",
        "if its still improper:\n",
        "\n",
        "* repeat\n",
        "\n",
        "\n"
      ],
      "metadata": {
        "id": "IVYOmQjICcd3"
      }
    },
    {
      "cell_type": "markdown",
      "source": [
        "#exercieses"
      ],
      "metadata": {
        "id": "7NJw9ZVzft44"
      }
    },
    {
      "cell_type": "markdown",
      "source": [
        "**1.Compute derivatives of functions:**\n",
        "\n",
        "a) $y(x)=−3x+3$\n",
        "\n",
        "$y'(x)=-3$\n",
        "\n",
        "---\n",
        "b) $y(x)=πx+sin(1)$\n",
        "\n",
        "sin doesnt have an x so it deletes π is treated as a number\n",
        "\n",
        "   $y'(x)=π$\n",
        "\n",
        "---\n",
        "c) $y(x)=4+sin(2)$\n",
        "\n",
        "   $y'(x)=0$\n",
        "\n",
        "---\n",
        "d) $y(x)=2x^3−3x^2+8x−9$\n",
        "\n",
        "   $y'(x)=2(3x^2)-3(2x)+8 =6x^2-6x+8$\n",
        "\n",
        "---\n",
        "e) $y(x)=6x^{\\frac{1}{3}}$\n",
        "\n",
        "   $y'(x)=6(\\frac{1}{3}x^{-\\frac{2}{3}})= 6(\\frac{1}{3}x^{-\\frac{2}{3}})= 2x^{-\\frac{2}{3}}=2 {(\\frac{1}{x})}^{\\frac{2}{3}}=2 \\sqrt[3]{(\\frac{1}{x})^2}$\n",
        "\n",
        "---\n",
        "f) $y(x)=\\sqrt x$\n",
        "  \n",
        "  $y'(x)=x^{\\frac{1}{2}}=\\frac{1}{2} x^{-\\frac{1}{2}}=\\frac{1}{2} \\sqrt{\\frac{1}{x}}$\n",
        "\n",
        "---\n",
        "g) $y(x)=cos⁡(x)+sin(x)$\n",
        "\n",
        "   $y'(x)=-sin⁡(x)+cos(x)=cos(x)-sin(x)$\n",
        "\n",
        "---\n",
        "\n",
        "h) $y(x)=2sin⁡(x)cos(x)$\n",
        "     $f'(x)=2cos(x) \\\\\n",
        "     g'(x)=-sin(x)$\n",
        "\n",
        "  product rule\n",
        "\n",
        " $y'(x)=2cos^2(x)-2sin^2(x)=2[cos^2(x)-sin^2(x)]$\n",
        "\n",
        "\n",
        "     \n",
        "---\n",
        "i) $y(x)=xsin⁡(x)$\n",
        "\n",
        "   $f'(x)=1\\\\\n",
        "   g'(x)=cos(x)$\n",
        "\n",
        "   product rule\n",
        "\n",
        "   $y'(x)=sin(x)+xcos(x)$\n",
        "\n",
        "---\n",
        "j) $y(x)=(x+1)(x+1)$\n",
        "\n",
        "  $y'(x)=x^2+2x+1=2x+2$\n",
        "\n",
        "---\n",
        "k) $y(x)=\\frac{x}{x+1}$\n",
        "\n",
        " quotient rule\n",
        "\n",
        " $y'(x)=\\frac{x+1-x}{(x+1)^2}=\\frac{1}{(x+1)^2}$\n",
        "\n",
        "---\n",
        "l) $y(x)=(x+1)exp⁡(x)$\n",
        "\n",
        "  $y'(x)=(x+1)exp⁡(x)$\n",
        "\n",
        "   $f'(x)=x+1=1 \\\\\n",
        "   g'(x)=exp(x)=exp(x)$\n",
        "\n",
        "   product rule\n",
        "\n",
        "   $y'(x)=exp(x)+(x+1)\\cdot exp(x)=(x+2)exp(x)$\n",
        "\n",
        "---\n",
        "m) $y(x)=sin(x^2)$\n",
        "\n",
        "   $y'(x)=cos(x^2) \\cdot 2x= 2xcos(x^2)$\n",
        "\n",
        "---\n",
        "n) $y(x)=exp⁡(−2x)$\n",
        "   \n",
        "   we use chain rule\n",
        "\n",
        "   $y'(x)=exp(x) \\cdot -2=-2exp(-2x)$\n",
        "\n",
        "---\n",
        "o) $y(x)=\\frac{1}{sin(x+1)}$\n",
        "\n",
        "   $y(x)=(sin(x+1))^{-1}$\n",
        "   \n",
        "   $y'(x)=sin(x+1)^{-1} \\cdot cos(x + 1)=\\frac{cos(x + 1)}{sin(x+1)}$\n",
        "   \n",
        "---\n",
        "p) $y(x)=\\sqrt{2x+1}$\n",
        "   \n",
        "   chain rule\n",
        "\n",
        "   $y(x)=(2x+1)^{\\frac{1}{2}}=a^{\\frac{1}{2}} \\cdot 2= \\frac{2}{2 \\sqrt a}= \\frac{1}{ \\sqrt {2x+1}}$\n",
        "   "
      ],
      "metadata": {
        "id": "irXfEaD-_vgf"
      }
    },
    {
      "cell_type": "markdown",
      "source": [
        "**2.Prove:**\n",
        "\n",
        "$\\frac{d}{dx}(ln⁡(sin⁡(x)))=cot⁡(x)$\n",
        "\n",
        "use chain rule\n",
        "\n",
        "$ln⁡(sin⁡(x))=\\frac{1}{sin(x)} \\cdot cos(x)=\\frac{cos(x)}{sin(x)}=cot(x)$\n",
        "\n"
      ],
      "metadata": {
        "id": "Wv2DLzT_B6td"
      }
    },
    {
      "cell_type": "markdown",
      "source": [
        "**3.For $f(x)=cos⁡(x)$, verify that $f″(x)=−f(x)$.**\n",
        "\n",
        "$-f(x)=-cos(x)$\n",
        "\n",
        "$f'(x)=-sin(x)\\\\\n",
        "f''(x)=-cos(x)$\n",
        "\n",
        "so $f″(x)=−f(x)$ is true\n",
        "\n",
        "$-cos(x)=-cos(x)$\n",
        "\n"
      ],
      "metadata": {
        "id": "qcg8rVwICOy5"
      }
    },
    {
      "cell_type": "markdown",
      "source": [
        "**4.Using de l'Hospital's Rule, find the improper limits:**\n",
        "\n",
        "$$\\lim_{x \\to 0} \\frac{sin (x)}{x}$$\n",
        "\n",
        "take derivative of numenator and denominator separately:\n",
        "\n",
        "$f(x)=sin(x)\\\\\n",
        "f'(x)=cos(x)$\n",
        "\n",
        "$g(x)=x\\\\g'(x)=1$\n",
        "\n",
        "make the new limit:\n",
        "\n",
        "$$\\lim_{x \\to 0} \\frac{cos (x)}{1}=\\frac{cos (0)}{1}=1$$\n",
        "\n",
        "---\n",
        "\n",
        "$$\\lim_{x \\to \\infty} \\frac{ln(x)}{x}$$\n",
        "\n",
        "$f(x)=ln(x)\\\\f'(x)=\\frac{1}{x}$\n",
        "\n",
        "$g(x)=x\\\\g'(x)=1$\n",
        "\n",
        "$$\\lim_{x \\to \\infty} \\frac{\\frac{1}{x}}{1}=\\frac{1}{x}=\\frac{1}{\\infty}=\\infty$$\n",
        "\n",
        "---\n",
        "$$\\lim_{x \\to \\infty} \\frac{exp(x)}{x}$$\n",
        "\n",
        "$f(x)=exp(x)\\\\f'(x)=exp(x)$\n",
        "\n",
        "$g(x)=x\\\\g'(x)=1$\n",
        "\n",
        "$$\\lim_{x \\to \\infty} \\frac{exp(x)}{1}=exp(\\infty)=\\infty$$"
      ],
      "metadata": {
        "id": "em7gD0MNCcFV"
      }
    },
    {
      "cell_type": "markdown",
      "source": [
        "**5**.In physics, the position of a particle is given by\n",
        "$x(t)=3t^2−6t+1$. Find the velocity\n",
        "$V(t)=x′(t)$ and acceleration $a(t)=V′(t)=x″(t)$ of the particle at time $t=2$.\n",
        "\n",
        "$V(t)=x′(t)=6t-6\\\\\n",
        "v(2)=x'(2)=12-6=6$\n",
        "\n",
        "$a(t)=V'(t)=x''(t)=6$"
      ],
      "metadata": {
        "id": "FNHwmvKUDvRw"
      }
    }
  ]
}