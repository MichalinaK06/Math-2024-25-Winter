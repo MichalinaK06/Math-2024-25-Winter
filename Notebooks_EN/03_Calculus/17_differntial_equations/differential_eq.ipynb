{
  "nbformat": 4,
  "nbformat_minor": 0,
  "metadata": {
    "colab": {
      "provenance": []
    },
    "kernelspec": {
      "name": "python3",
      "display_name": "Python 3"
    },
    "language_info": {
      "name": "python"
    }
  },
  "cells": [
    {
      "cell_type": "markdown",
      "source": [
        "#notes\n",
        "Understanding the Equation\n",
        "\n",
        "The equation $y'(x) = y(x)$$y'(x) = y(x)$ means that the rate of change of the function $y(x)$$y(x)$ with respect to $x$$x$ is equal to the function itself. Our goal is to find a function $y(x)$$y(x)$ that satisfies this condition.\n",
        "\n",
        "Steps to Solve\n",
        "\n",
        "Separation of Variables:\n",
        "\n",
        "Rewrite the equation with differentials: $\\frac{dy}{dx} = y$$\\frac{dy}{dx} = y$.\n",
        "Separate the variables by moving all terms involving $y$$y$ to one side and all terms involving $x$$x$ to the other side:\n",
        "$\\frac{dy}{y} = dx$$\\frac{dy}{y} = dx$\n",
        "Integration:\n",
        "\n",
        "Integrate both sides of the equation with respect to their respective variables: $\\int \\frac{dy}{y} = \\int dx$$\\int \\frac{dy}{y} = \\int dx$\n",
        "Solving the Integrals:\n",
        "\n",
        "The integrals are straightforward: $\\ln|y| = x + C$ (where C is the constant of integration)\n",
        "Solving for y:\n",
        "\n",
        "Exponentiate both sides to solve for $y$$y$: $|y| = e^{x + C}$ $|y| = e^x \\cdot e^C$ Since $e^C$ is just another constant, we can rewrite it as $A$: $|y| = Ae^x$\n",
        "To remove the absolute value, we introduce another constant, which can be either positive or negative. We can represent this by writing: $y = ke^x$ (where $k$ is a constant that can be positive or negative, or zero if $A = 0$)\n",
        "Therefore, the general solution to the differential equation $y'(x) = y(x)$$y'(x) = y(x)$ is $y(x) = ke^x$$y(x) = ke^x$, where $k$$k$ is an arbitrary constant.\n",
        "\n",
        "Example:\n",
        "\n",
        "If we have the initial condition $y(0) = 2$$y(0) = 2$, we can find the specific solution:\n",
        "\n",
        "Substitute the initial condition into the general solution: $2 = ke^0$$2 = ke^0$\n",
        "\n",
        "Solve for $k$$k$: $2 = k(1)$$2 = k(1)$ $k = 2$$k = 2$\n",
        "\n",
        "The specific solution is: $y(x) = 2e^x$$y(x) = 2e^x$"
      ],
      "metadata": {
        "id": "yaRtpID24t9_"
      }
    },
    {
      "cell_type": "markdown",
      "source": [
        "1.Solve the following first-order ordinary differential equations:\n",
        "\n",
        "a) $y'(x)=y(x)\\\\\n",
        "\\frac{dy}{dx}=y\\\\\n",
        "dy=y,dx\\\\\n",
        "\\frac{dy}{y}=dx\\\\\n",
        "\\int \\frac{dy}{y}=\\int dx\\\\\n",
        "ln(y)=x+c\\\\\n",
        "e^{ln(y)}=e^{x+c}\\\\\n",
        "y=ce^x$\n",
        "\n",
        "b) $y'(x)=\\frac{1}{2y(x)}\\\\\n",
        "\\frac{dy}{dx}=\\frac{1}{2y}\\\\\n",
        "\\int 2y,dy=\\int dx\\\\\n",
        "\\frac{2y^2}{2}=x+c\\\\\n",
        "y^2=x+c\\\\\n",
        "y=\\sqrt{x+c}$"
      ],
      "metadata": {
        "id": "WHVCY8qp3SEB"
      }
    },
    {
      "cell_type": "markdown",
      "source": [
        "2.Solve the first-order ordinary differential equations using the method of separation of variables for $x$ and $y=y(x)$:\n",
        "\n",
        "a) $\\frac{dy}{dx}=\\frac{x}{y}\\\\\n",
        "\\int y,dy=\\int x,dx\\\\\n",
        "\\frac{y^2}{2}=\\frac{x^2}{2}+c$\n",
        "\n",
        "everthing times 2 but c is a constant so it stays c\n",
        "\n",
        "$y^2=x^2+c\\\\\n",
        "y=\\sqrt{x^2+c}$\n",
        "\n",
        "b) $\\frac{dy}{dx}=\\frac{y}{x}\\\\\n",
        "x \\cdot dy=y\\cdot dx\\\\\n",
        "\\frac{x\\cdot dy}{y}=dx\\\\\n",
        "\\frac{\\frac{x\\cdot dy}{y}}{x}=\\frac{dx}{x}\\\\\n",
        "\\frac{x\\cdot dy}{y}\\cdot \\frac{1}{x}=\\frac{dx}{x}\\\\\n",
        "\\frac{dy}{y}=\\frac{dx}{x}\\\\\n",
        "ln(y)=ln(x)+c\\\\\n",
        "e^{ln(y)}=e^{ln(x)+c}\\\\\n",
        "y=xc$\n",
        "\n",
        "c)  $\\frac{dy}{dx}=xy\\\\\n",
        "dy=xydx\\\\\n",
        "\\int \\frac{dy}{y}=\\int x,dy\\\\\n",
        "ln(y)=\\frac{x^2}{2}+c\\\\\n",
        "e^{ln(y)}=e^{\\frac{x^2}{2}+c}\\\\\n",
        "y=ce^{\\frac{x^2}{2}}$\n",
        "\n",
        "\n"
      ],
      "metadata": {
        "id": "DY8ivvduy8ur"
      }
    }
  ]
}