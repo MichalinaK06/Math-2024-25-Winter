{
  "nbformat": 4,
  "nbformat_minor": 0,
  "metadata": {
    "colab": {
      "provenance": []
    },
    "kernelspec": {
      "name": "python3",
      "display_name": "Python 3"
    },
    "language_info": {
      "name": "python"
    }
  },
  "cells": [
    {
      "cell_type": "markdown",
      "source": [
        "the formatting is messed up if you look at it from github its normal in collab"
      ],
      "metadata": {
        "id": "Nc52Er9ajdtZ"
      }
    },
    {
      "cell_type": "markdown",
      "source": [
        "#notes\n",
        "\n",
        "Separation of Variables:\n",
        "\n",
        "-rewrite the derivative\n",
        "\n",
        "-y on one side x on the other\n",
        "\n",
        "-integrate them add c\n",
        "\n"
      ],
      "metadata": {
        "id": "yaRtpID24t9_"
      }
    },
    {
      "cell_type": "markdown",
      "source": [
        "1.Solve the following first-order ordinary differential equations:\n",
        "\n",
        "a) $y'(x)=y(x)$\n",
        "\n",
        "re write derivative\n",
        "\n",
        "$\\frac{dy}{dx}=y$\n",
        "\n",
        "x one one side y on other\n",
        "\n",
        "$dy=ydx\\\\\n",
        "\\frac{dy}{y}=dx$\n",
        "\n",
        "integrathe them\n",
        "\n",
        "$\\int \\frac{dy}{y}=\\int dx$\n",
        "\n",
        "$ln(y)=x+c$\n",
        "\n",
        "e^ln cancels out so only y add constant, e^c is just c\n",
        "\n",
        "$e^{ln(y)}=e^{x+c}\\\\\n",
        "y=ce^x\\\\\n",
        "y'(x)=ce^x\\\\\n",
        "ce^x=ce^x$\n",
        "\n",
        "b) $y'(x)=\\frac{1}{2y(x)}\\\\\n",
        "\\frac{dy}{dx}=\\frac{1}{2y}\\\\\n",
        "2\\int y,dy=\\int dx\\\\\n",
        "\\frac{2y^2}{2}=x+c\\\\\n",
        "y^2=x+c\\\\\n",
        "y=\\sqrt{x+c}$\n",
        "\n",
        "it true with usub"
      ],
      "metadata": {
        "id": "WHVCY8qp3SEB"
      }
    },
    {
      "cell_type": "markdown",
      "source": [
        "2.Solve the first-order ordinary differential equations using the method of separation of variables for $x$ and $y=y(x)$:\n",
        "\n",
        "a) $\\frac{dy}{dx}=\\frac{x}{y}\\\\\n",
        "\\int y,dy=\\int x,dx\\\\\n",
        "\\frac{y^2}{2}=\\frac{x^2}{2}+c$\n",
        "\n",
        "everthing times 2 but c is a constant so it stays c\n",
        "\n",
        "$y^2=x^2+c\\\\\n",
        "y=\\sqrt{x^2+c}$\n",
        "\n",
        "b) $$\\frac{dy}{dx}=\\frac{y}{x}\\\\\n",
        "x \\cdot dy=y\\cdot dx\\\\\n",
        "\\frac{x\\cdot dy}{y}=dx\\\\\n",
        "\\frac{\\frac{x\\cdot dy}{y}}{x}=\\frac{dx}{x}\\\\\n",
        "\\frac{x\\cdot dy}{y}\\cdot \\frac{1}{x}=\\frac{dx}{x}\\\\\n",
        "\\int \\frac{dy}{y}=\\int \\frac{dx}{x}\\\\\n",
        "ln(y)=ln(x)+c\\\\\n",
        "e^{ln(y)}=e^{ln(x)+c}\\\\\n",
        "y=xc$$\n",
        "\n",
        "$y'(x)=c$\n",
        "\n",
        "$c=\\frac{xc}{x}\\\\\n",
        "c=c$\n",
        "\n",
        "\n",
        "c)  $$\\frac{dy}{dx}=xy\\\\\n",
        "dy=xydx\\\\\n",
        " \\frac{dy}{y}= xdx\\\\\n",
        "\\int \\frac{dy}{y}=\\int x,dx\\\\\n",
        "ln(y)=\\frac{x^2}{2}+c\\\\\n",
        "e^{ln(y)}=e^{\\frac{x^2}{2}+c}\\\\\n",
        "y=ce^{\\frac{x^2}{2}}$$\n",
        "\n",
        "$$left=(ce^{\\frac{x^2}{2}})'=c(e^{\\frac{x^2}{2}})'=ce^{\\frac{x^2}{2}}\\cdot x=xce^{\\frac{x^2}{2}}$$\n",
        "\n",
        "$$right=xy=x \\cdot ce^{\\frac{x^2}{2}}=xce^{\\frac{x^2}{2}}\\\\\n",
        "left=right\\\\\n",
        "xce^{\\frac{x^2}{2}}=xce^{\\frac{x^2}{2}}$$\n",
        "\n",
        "\n"
      ],
      "metadata": {
        "id": "DY8ivvduy8ur"
      }
    },
    {
      "cell_type": "markdown",
      "source": [
        "3.Solve the second-order ordinary differential equations:\n",
        "\n",
        "$y''(x)+y'(x)=0$ with boundary conditions $y(0)=2$ and $y'(0)=-1$\n",
        "\n",
        "$r^2+r=0\\\\\n",
        "r(r+1)=0\\\\\n",
        "r=0 \\space and \\space r=-1$\n",
        "\n",
        "plug it in for $y(x)=c_1e^{r_1x}+c_2e{r_2x}$\n",
        "\n",
        "$y(x)=c_1e^{0x}+c_2e^{-x}\\\\\n",
        "y(x)=c_1+\\frac{c_2}{e^x}$\n",
        "\n",
        "plug it in to $y(0)=2$ and $y'(0)=-1$\n",
        "\n",
        "$2=c_1+\\frac{c_2}{e^0}\\\\\n",
        "2=c_1+c_2\\\\\n",
        "c_1=2-c_2$\n",
        "\n",
        "$y'(x)=-\\frac{c_2}{e^x}$\n",
        "\n",
        "$-1=-\\frac{c_2}{e^0}\\\\\n",
        "-1=-c_2\\\\\n",
        "c_2=1$\n",
        "\n",
        "sub into $c_1$\n",
        "\n",
        "$c_1=2-1\\\\\n",
        "c_1=1$\n",
        "\n",
        "sub into general eq\n",
        "\n",
        "$y(x)=1+\\frac{1}{e^x}$\n",
        "\n",
        "\n"
      ],
      "metadata": {
        "id": "icAq2CoXTurU"
      }
    },
    {
      "cell_type": "markdown",
      "source": [
        "4.$y''(x)-y'(x)=0$ with boudaries $y(0)=2$ and $y'(0)=0$\n",
        "\n",
        "$r^2-r=0\\\\\n",
        "r(r-1)\\\\\n",
        "r=0 \\space r=1$\n",
        "\n",
        "$y(x)=c_1e^{r_1x}+c_2e{r_2x}$\n",
        "\n",
        "$y(x)=c_1e^{0x}+c_2e{1x}$\n",
        "\n",
        "$y(x)=c_1+c_2e^{x}$\n",
        "\n",
        "$2=c_1+c_2e^0\\\\\n",
        "c_1=2-c_2$\n",
        "\n",
        "$y'(x)=c_2e^{x}$\n",
        "\n",
        "$0=c_2e^{0}\\\\\n",
        "c_2=0$\n",
        "\n",
        "$c_1=2-0\\\\\n",
        "c_1=2$\n",
        "\n",
        "$y(x)=2$\n",
        "\n",
        "\n",
        "\n",
        "\n",
        "\n",
        "\n",
        "\n"
      ],
      "metadata": {
        "id": "QtDD-PHtkov6"
      }
    },
    {
      "cell_type": "markdown",
      "source": [
        "$\\frac{d^2y(x)}{dx^2}=𝜔^2y(x)$"
      ],
      "metadata": {
        "id": "_yrhgqs_nyoz"
      }
    }
  ]
}