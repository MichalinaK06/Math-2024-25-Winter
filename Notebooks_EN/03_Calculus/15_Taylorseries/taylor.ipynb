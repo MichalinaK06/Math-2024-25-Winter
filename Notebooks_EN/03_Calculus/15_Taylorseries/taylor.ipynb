{
  "nbformat": 4,
  "nbformat_minor": 0,
  "metadata": {
    "colab": {
      "provenance": []
    },
    "kernelspec": {
      "name": "python3",
      "display_name": "Python 3"
    },
    "language_info": {
      "name": "python"
    }
  },
  "cells": [
    {
      "cell_type": "markdown",
      "source": [
        "formula\n",
        "\n",
        "$$f(x) = f(a) + \\frac{f'(a)(x-a)}{1!}+ \\frac{f''(a)(x-a)}{2!}+ \\frac{f'''(a)(x-a)}{3!}  + ...$$"
      ],
      "metadata": {
        "id": "fhOi7TwqbwIs"
      }
    },
    {
      "cell_type": "markdown",
      "source": [
        "Find the Taylor series and visualize obtained functions in Geogebra:\n",
        "\n",
        "a) $f(x)=cos⁡(x)$ around $x=0$ up to the 4th degree.\n",
        "\n",
        "$x=0\\\\\n",
        "f(x)=cos⁡(x)=cos(0)=1\\\\\n",
        "f'(x)=cos⁡(x)=-sin(x)=-sin(0)=0\\\\\n",
        "f''(x)=-sin(x)=-cos(x)=-cos(0)=-1\\\\\n",
        "f'''(x)=-cos(x)=sin(x)=sin(0)=0\\\\\n",
        "f''''(x)=sin(x)=cos(x)=cos(0)=1$\n",
        "\n",
        "the formula after $a=0$ is\n",
        "\n",
        "$f(x) = f(0) + \\frac{f'(0)x}{1!} + ...$\n",
        "\n",
        "$$cos(x)=1+\\frac{-x^2}{2}+\\frac{x^4}{24}$$\n",
        "\n",
        "\n",
        "b) $h(x)=\\frac{1}{1−x}$ around $x=0$ up to the 4rd degree.\n",
        "\n",
        "$h(x)=\\frac{1}{1−x}=\\frac{1}{1−0}=1\\\\\n",
        "h'(x)=\\frac{-1+x}{(1-x)^2}\\\\\n",
        "h''(x)=\\frac{}{(1-x)^4}\\\\\n",
        "h'''(x)=\\frac{}{(1-x)^6}\\\\\n",
        "h''''(x)=\\frac{}{(1-x)^8}$\n",
        "\n",
        "$g(x)=sin⁡(x)$ around $x=π$ up to the 4rd degree."
      ],
      "metadata": {
        "id": "zdqysYJRbHqh"
      }
    }
  ]
}