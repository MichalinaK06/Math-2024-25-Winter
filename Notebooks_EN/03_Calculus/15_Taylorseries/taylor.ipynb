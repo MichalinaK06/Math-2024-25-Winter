{
  "nbformat": 4,
  "nbformat_minor": 0,
  "metadata": {
    "colab": {
      "provenance": []
    },
    "kernelspec": {
      "name": "python3",
      "display_name": "Python 3"
    },
    "language_info": {
      "name": "python"
    }
  },
  "cells": [
    {
      "cell_type": "markdown",
      "source": [
        "formula\n",
        "\n",
        "$$f(x) = f(a) + \\frac{f'(a)(x-a)}{1!}+ \\frac{f''(a)(x-a)}{2!}+ \\frac{f'''(a)(x-a)}{3!}  + ...$$"
      ],
      "metadata": {
        "id": "fhOi7TwqbwIs"
      }
    },
    {
      "cell_type": "markdown",
      "source": [
        "Find the Taylor series and visualize obtained functions in Geogebra:\n",
        "\n",
        "a) $f(x)=cos⁡(x)$ around $x=0$ up to the 4th degree.\n",
        "\n",
        "$x=0\\\\\n",
        "f(x)=cos⁡(x)=cos(0)=1\\\\\n",
        "f'(x)=cos⁡(x)=-sin(x)=-sin(0)=0\\\\\n",
        "f''(x)=-sin(x)=-cos(x)=-cos(0)=-1\\\\\n",
        "f'''(x)=-cos(x)=sin(x)=sin(0)=0\\\\\n",
        "f''''(x)=sin(x)=cos(x)=cos(0)=1$\n",
        "\n",
        "the formula after $a=0$ is\n",
        "\n",
        "$f(x) = f(0) + \\frac{f'(0)x}{1!} + ...$\n",
        "\n",
        "$$cos(x)=1+\\frac{-x^2}{2}+\\frac{x^4}{24}$$\n",
        "\n",
        "\n",
        "\n",
        "\n"
      ],
      "metadata": {
        "id": "zdqysYJRbHqh"
      }
    },
    {
      "cell_type": "markdown",
      "source": [
        "b) $h(x)=\\frac{1}{1−x}$ around $x=0$ up to the 4rd degree.\n",
        "\n",
        "$h(x)=(1-x)^{-1}=1^{-1}=1\\\\\n",
        "h'(x)=(1-x)^{-2}=1^{-2}=1\\\\\n",
        "h''(x)=2(1-x)^{-3}=2x^{-3}=2\\\\\n",
        "h'''(x)=6(1-x)^{-4}=6\\\\\n",
        "h''''(x)=24(1-x)^{-5}=24$\n",
        "\n",
        "\n",
        "$$\\frac{1}{1-x}=h(0)+h'(0)x+\\frac{h''(0)x^2}{2!}+...$$\n",
        "\n",
        "$$\\frac{1}{1-x}=1+x+\\frac{2x^2}{2}+\\frac{6x^3}{6}+\\frac{24x^4}{24}$$\n",
        "\n",
        "$$\\frac{1}{1-x}=1+x+x^2+x^3+x^4$$"
      ],
      "metadata": {
        "id": "u6KsumhaNltg"
      }
    },
    {
      "cell_type": "markdown",
      "source": [
        "c) $g(x)=sin⁡(x)$ around $x=π$ up to the 4rd degree.\n",
        "\n",
        "$g(x)=sin(x)=sin(π)=0\\\\\n",
        "g'(x)=cos(x)=cos(π)=-1\\\\\n",
        "g''(x)=-sin(x)=-sin(π)=0\\\\\n",
        "g'''(x)=-cos(x)=-cos(π)=1\\\\\n",
        "g''''(x)=sin(x)=sin(π)=0$\n",
        "\n",
        "$$g(x)=g(\\pi)+g'(\\pi)(x-\\pi)+\\frac{g''(\\pi)(x-\\pi)^2}{2!}+...$$\n",
        "\n",
        "\n",
        "$$sin(x)=0+-1(x-\\pi)+\\frac{0(x-\\pi)^2}{2!}+\\frac{1(x-\\pi)^3}{6}+\\frac{0(x-\\pi)^4}{24}$$\n",
        "\n",
        "$$sin(x)=-(x-\\pi)+\\frac{(x-\\pi)^3}{6}$$\n"
      ],
      "metadata": {
        "id": "gokbCQZvRn25"
      }
    },
    {
      "cell_type": "markdown",
      "source": [
        "Find a tangent line $y=f′(x_0)(x−x_0)+f(x_0)$ to the function $f(x)=e^{sin(x)}$ at $x_0=π$.\n",
        "\n",
        "$y=f′(x_0)(x−x_0)+f(x_0)$\n",
        "\n",
        "to solve we need $f(x_0)$ and $f'(x_0)$\n",
        "\n",
        "$f(x_0)=e^{sin(\\pi)}=e^0=1\\\\\n",
        "f'(x)=cos(x) \\cdot e^{sin(x)}\\\\\n",
        "f'(x_0)=cos(\\pi) \\cdot 1= -1$\n",
        "\n",
        "\n",
        "$y=f′(x_0)(x−x_0)+f(x_0)\\\\\n",
        "y=-1(x-\\pi)+1\\\\\n",
        "y=-x+\\pi+1$\n",
        "\n",
        "\n",
        "---\n",
        "\n",
        "\n",
        "\n",
        " Hints for Geogebra visualization: define $f(x)$, include slider s, define $y = f'(s) (x-s) + f(s)$, and include point $P(s, f(s))$.\n"
      ],
      "metadata": {
        "id": "Fcl0WlT_YU8j"
      }
    }
  ]
}