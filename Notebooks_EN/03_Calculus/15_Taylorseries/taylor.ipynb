{
  "nbformat": 4,
  "nbformat_minor": 0,
  "metadata": {
    "colab": {
      "provenance": []
    },
    "kernelspec": {
      "name": "python3",
      "display_name": "Python 3"
    },
    "language_info": {
      "name": "python"
    }
  },
  "cells": [
    {
      "cell_type": "markdown",
      "source": [
        "formula\n",
        "\n",
        "$$f(x) = f(a) + \\frac{f'(a)(x-a)}{1!}+ \\frac{f''(a)(x-a)}{2!}+ \\frac{f'''(a)(x-a)}{3!}  + ...$$"
      ],
      "metadata": {
        "id": "fhOi7TwqbwIs"
      }
    },
    {
      "cell_type": "markdown",
      "source": [
        "Find the Taylor series and visualize obtained functions in Geogebra:\n",
        "\n",
        "a) $f(x)=cos⁡(x)$ around $x=0$ up to the 4th degree.\n",
        "\n",
        "$x=0\\\\\n",
        "f(x)=cos⁡(x)=cos(0)=1\\\\\n",
        "f'(x)=cos⁡(x)=-sin(x)=-sin(0)=0\\\\\n",
        "f''(x)=-sin(x)=-cos(x)=-cos(0)=-1\\\\\n",
        "f'''(x)=-cos(x)=sin(x)=sin(0)=0\\\\\n",
        "f''''(x)=sin(x)=cos(x)=cos(0)=1$\n",
        "\n",
        "the formula after $a=0$ is\n",
        "\n",
        "$f(x) = f(0) + \\frac{f'(0)x}{1!} + ...$\n",
        "\n",
        "$$cos(x)=1+\\frac{-x^2}{2}+\\frac{x^4}{24}$$\n",
        "\n",
        "\n",
        "b) $h(x)=\\frac{1}{1−x}$ around $x=0$ up to the 4rd degree.\n",
        "\n",
        "$h(x)=\\frac{1}{1−x}=\\frac{1}{1−0}=1\\\\\n",
        "h'(x)=\\frac{-1+x}{(1-x)^2}\\\\\n",
        "h''(x)=\\frac{(1-x)^2-(x-1)}{(1-x)^4}\\\\\n",
        "h'''(x)=\\frac{}{(1-x)^6}\\\\\n",
        "h''''(x)=\\frac{}{(1-x)^8}$\n",
        "\n",
        "$g(x)=sin⁡(x)$ around $x=π$ up to the 4rd degree.\n",
        "\n",
        "$g(x)=sin(x)=sin(π)=0\\\\\n",
        "g'(x)=cos(x)=cos(π)=-1\\\\\n",
        "g''(x)=-sin(x)=-sin(π)=0\\\\\n",
        "g'''(x)=-cos(x)=-cos(π)=1\\\\\n",
        "g''''(x)=sin(x)=sin(π)=0$\n",
        "\n",
        "$sin(x)=0+\\frac{-x}{1}+\\frac{x^3}{6}\\\\\n",
        "sin(x)=-x+\\frac{x^3}{6}$\n"
      ],
      "metadata": {
        "id": "zdqysYJRbHqh"
      }
    },
    {
      "cell_type": "markdown",
      "source": [
        "Find a tangent line $y=f′(x_0)(x−x_0)+f(x_0)$ to the function $f(x)=e^{sin(x)}$ at $x_0=π$. Hints for Geogebra visualization: define $f(x)$, include slider s, define $y = f'(s) (x-s) + f(s)$, and include point $P(s, f(s))$.\n",
        "\n",
        "$$y=f′(x_0)(x−x_0)+f(x_0) \\space , \\space x_0=\\pi \\space,\\space f(x)=e^{sin(x)}$$\n",
        "\n",
        "this is wrong btw redo it\n",
        "\n",
        "$$f(x_0)=e^{sin(\\pi)}=e^0=1\\\\\n",
        "f'(x_0)=0\\\\\n",
        "y=f′(x_0)(x−x_0)+f(x_0)\\\\\n",
        "y=0(x−x_0)+1\\\\\n",
        "y=1$$"
      ],
      "metadata": {
        "id": "Fcl0WlT_YU8j"
      }
    }
  ]
}