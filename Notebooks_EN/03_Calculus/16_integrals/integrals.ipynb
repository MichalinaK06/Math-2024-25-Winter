{
  "nbformat": 4,
  "nbformat_minor": 0,
  "metadata": {
    "colab": {
      "provenance": []
    },
    "kernelspec": {
      "name": "python3",
      "display_name": "Python 3"
    },
    "language_info": {
      "name": "python"
    }
  },
  "cells": [
    {
      "cell_type": "markdown",
      "source": [
        "notes\n",
        "\n",
        "$$\\int 4dx=4x+c$$\n",
        "\n",
        "$$\\int x^ndx=\\frac{x^{n+1}}{n+1} +c$$\n",
        "\n",
        "if quadratic for examle integrate each seperate to constant add x\n",
        "\n",
        "if you have sqrt you can multi by reprocal is tead of making a frac\n",
        "\n",
        "$\\int e^x,dx=\\frac{e^x}{1}=e^x$ this works only if $x^1$\n",
        "\n",
        "definite int\n",
        "\n",
        "$$\\int_a^b f(x) dx = F(b)-F(a)$$"
      ],
      "metadata": {
        "id": "JM68_xBjYkR1"
      }
    },
    {
      "cell_type": "markdown",
      "source": [
        "1.compute\n",
        "\n",
        "a) $\\int 1dx=x+c$\n",
        "\n",
        "b) $\\int (x^2+2)dx=\\frac{x^3}{3}+2x+c$\n",
        "\n",
        "c) $\\int 2sin⁡(x)dx=-2cos(x)+c$\n",
        "\n",
        "d) $\\int \\frac{3}{x}dx=3\\frac{1}{x}+c=3 ln(x)+c$\n",
        "\n",
        "e) $\\int \\frac{1}{x^2}dx=x^{-2}+c=\\frac{x^{-1}}{-1}+c=-\\frac{1}{x}+c$\n",
        "\n",
        "f) $\\int (\\frac{1}{3}x^4-5)dx=\\frac{1}{3} \\cdot \\frac{x^5}{5}-5x+c=\\frac{x^5}{15}-5x+c$\n",
        "\n",
        "g) $\\int (sin^2x+cos^2x)dx=x+c$\n",
        "\n",
        "h) $\\int (5sinx+3e^x)dx=-5cos(x)+3e^x+c$\n",
        "\n",
        "i) $\\int \\sqrt[3]{x},dx=x^{\\frac{4}{3}} \\cdot \\frac{3}{4}+c=\\frac{3}{4}\\sqrt[3]{x^4}+c$\n",
        "\n",
        "j) $\\int \\sqrt{10x},dx=\\sqrt10 \\cdot x^{\\frac{3}{2}} \\cdot \\frac{2}{3} +c$\n",
        "\n",
        "k) $\\int cos(\\frac{5}{2}x+3)dx$\n",
        "\n",
        ") $\\int \\frac{cos(ln(x))}{x}dx=cos(ln(x)) \\cdot ln(x)$\n",
        "\n",
        ") $\\int xln(x),dx$\n",
        "\n",
        "n) $\\int xe^x,dx=\\frac{xe^x}{1}=xe^x$\n",
        "\n"
      ],
      "metadata": {
        "id": "5jYoPTJ4XVKQ"
      }
    },
    {
      "cell_type": "markdown",
      "source": [
        "2.Calculate integrals over the interval $[0,π]$\n",
        " and visualize them in Geogebra:\n",
        "\n",
        "$f(x)=2x+1\\\\\n",
        "g(x)=x^2$\n",
        "\n",
        " $$\\int_0^\\pi 2x+1 \\space dx=\\frac{2x^2}{2}+x \\space |_0^\\pi=(\\frac{2\\pi^2}{2}+\\pi)-(\\frac{2\\cdot 0^2}{2}-0)=\\frac{2\\pi^2}{2}+\\pi$$\n",
        "\n",
        " $$\\int_0^\\pi x^2 \\space dx=\\frac{x^3}{3} \\space |_0^\\pi=\\frac{\\pi^3}{3}-0=\\frac{\\pi^3}{3}$$"
      ],
      "metadata": {
        "id": "lVfGpoDMMfx8"
      }
    },
    {
      "cell_type": "markdown",
      "source": [
        "3.Calculate the area of the region bounded by the lines: $x=1$, $x=2$, $y=0$, and $y=x^2+1$\n",
        ". Show it in Geogebra.\n",
        "\n",
        "https://www.geogebra.org/calculator/yfjd3cey\n",
        "\n",
        "$$\\int_1^2 x^2 +1 \\space dx =\\frac{x^3}{3}+x \\space |_1^2 = \\frac{2^3}{3}+2-(\\frac{1^3}{3}+1)=\\frac{7}{3}+1=\\frac{10}{3}$$"
      ],
      "metadata": {
        "id": "dKPl5Q7_SZCg"
      }
    },
    {
      "cell_type": "markdown",
      "source": [
        "4.Calculate the area under the sine curve over the interval $[0,π]$, using: $P=∫_a^b f(x),dx =∫_0^π sin(x),dx$\n",
        "\n",
        "$$\\int_0^\\pi sin(x),dx=-cos(x) \\space |_0^\\pi=-cos(\\pi)-(-cos(0))=-(-1)-(-1)=2$$"
      ],
      "metadata": {
        "id": "2O5vJV7tVLKu"
      }
    },
    {
      "cell_type": "markdown",
      "source": [
        "Calculate the length of the sine curve over the same interval using:\n",
        "$L=∫_a^b \\sqrt{1+(f′(x))2},dx=∫0π1+cos2(x),dx$"
      ],
      "metadata": {
        "id": "8KeHdEs-Yb5U"
      }
    },
    {
      "cell_type": "markdown",
      "source": [
        "6.Find the distance of the moving particle between time $t=0$ and $t=2$ for the following position function: $x(t)=3t^2−6t+1$.\n",
        "\n",
        "$$\\int_0^2 3t^2−6t+1,dx=\\frac{3t^3}{3}-\\frac{6t^2}{2}+t \\space |_0^2=\\frac{3\\cdot 2^3}{3}-\\frac{6\\cdot 2^2}{2}+2-(\\frac{3\\cdot 0^3}{3}-\\frac{6\\cdot 0^2}{2}+0)=\\frac{24}{3}-\\frac{24}{2}+2=8-12+2=-2$$"
      ],
      "metadata": {
        "id": "yPXf7ezoZJxW"
      }
    }
  ]
}