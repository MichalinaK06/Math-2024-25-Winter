{
  "nbformat": 4,
  "nbformat_minor": 0,
  "metadata": {
    "colab": {
      "provenance": []
    },
    "kernelspec": {
      "name": "python3",
      "display_name": "Python 3"
    },
    "language_info": {
      "name": "python"
    }
  },
  "cells": [
    {
      "cell_type": "markdown",
      "source": [
        "notes\n",
        "\n",
        "$$\\int 4dx=4x+c$$\n",
        "\n",
        "$$\\int x^ndx=\\frac{x^{n+1}}{n+1} +c$$\n",
        "\n",
        "if quadratic for examle integrate each seperate to constant add x\n",
        "\n",
        "if you have sqrt you can multi by reprocal is tead of making a frac"
      ],
      "metadata": {
        "id": "JM68_xBjYkR1"
      }
    },
    {
      "cell_type": "markdown",
      "source": [
        "This is an example of an integral: $\\int_{0}^{1} x^2 dx$\n",
        "\n",
        "And here's a displayed integral:\n",
        "\n",
        "$$\\int_{-\\infty}^{\\infty} e^{-x^2} dx$$"
      ],
      "metadata": {
        "id": "LGzO2tPSXL0T"
      }
    },
    {
      "cell_type": "markdown",
      "source": [
        "1.compute\n",
        "\n",
        "a) $\\int 1dx=x+c$\n",
        "\n",
        "b) $\\int (x^2+2)dx=\\frac{x^3}{3}+2x+c$\n",
        "\n",
        ") $\\int 2sin⁡(x)dx$\n",
        "\n",
        ") $\\int \\frac{3}{x}dx$\n",
        "\n",
        ") $\\int \\frac{1}{x^2}dx$\n",
        "\n",
        "f) $\\int (\\frac{1}{3}x^4-5)dx=\\frac{\\frac{1}{3}x^5}{5}+5x+c$\n",
        "\n",
        ") $\\int (sin^2x+cos^2x)dx$\n",
        "\n",
        ") $\\int (5sinx+3e^x)dx$\n",
        "\n",
        "i) $\\int \\sqrt[3]{x},dx=x^{\\frac{4}{3}} \\cdot \\frac{3}{4}+c=\\frac{3}{4}\\sqrt[3]{x^4}+c$\n",
        "\n",
        ") $\\int \\sqrt{10x},dx=\\sqrt{10} \\cdot x^{\\frac{1}{2}} \\cdot \\frac =\\frac{x^{1,5}}{1,5}}$\n",
        "\n",
        ") $\\int cos(\\frac{5}{2}x+3)dx$\n",
        "\n",
        ") $\\int \\frac{cos(ln(x))}{x}dx$\n",
        "\n",
        ") $\\int xln(x),dx$\n",
        "\n",
        ") $\\int xe^x,dx$\n",
        "\n"
      ],
      "metadata": {
        "id": "5jYoPTJ4XVKQ"
      }
    }
  ]
}