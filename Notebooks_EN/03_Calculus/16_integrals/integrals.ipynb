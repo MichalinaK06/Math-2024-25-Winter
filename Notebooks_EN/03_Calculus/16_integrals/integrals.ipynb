{
  "nbformat": 4,
  "nbformat_minor": 0,
  "metadata": {
    "colab": {
      "provenance": []
    },
    "kernelspec": {
      "name": "python3",
      "display_name": "Python 3"
    },
    "language_info": {
      "name": "python"
    }
  },
  "cells": [
    {
      "cell_type": "markdown",
      "source": [
        "notes\n",
        "\n",
        "$$\\int 4dx=4x+c$$\n",
        "\n",
        "$$\\int x^ndx=\\frac{x^{n+1}}{n+1} +c$$\n",
        "\n",
        "if quadratic for examle integrate each seperate to constant add x\n",
        "\n",
        "if you have sqrt you can multi by reprocal is tead of making a frac\n",
        "\n",
        "$\\int e^x,dx=\\frac{e^x}{1}=e^x$ this works only if $x^1$"
      ],
      "metadata": {
        "id": "JM68_xBjYkR1"
      }
    },
    {
      "cell_type": "markdown",
      "source": [
        "1.compute\n",
        "\n",
        "a) $\\int 1dx=x+c$\n",
        "\n",
        "b) $\\int (x^2+2)dx=\\frac{x^3}{3}+2x+c$\n",
        "\n",
        "c) $\\int 2sin⁡(x)dx=-2cos(x)+c$\n",
        "\n",
        "d) $\\int \\frac{3}{x}dx=3\\frac{1}{x}+c=3 ln(x)+c$\n",
        "\n",
        "e) $\\int \\frac{1}{x^2}dx=x^{-2}+c=\\frac{x^{-1}}{-1}+c=-\\frac{1}{x}+c$\n",
        "\n",
        "f) $\\int (\\frac{1}{3}x^4-5)dx=\\frac{1}{3} \\cdot \\frac{x^5}{5}-5x+c=\\frac{x^5}{15}-5x+c$\n",
        "\n",
        "g) $\\int (sin^2x+cos^2x)dx=x+c$\n",
        "\n",
        "h) $\\int (5sinx+3e^x)dx=-5cos(x)+3e^x+c$\n",
        "\n",
        "i) $\\int \\sqrt[3]{x},dx=x^{\\frac{4}{3}} \\cdot \\frac{3}{4}+c=\\frac{3}{4}\\sqrt[3]{x^4}+c$\n",
        "\n",
        "j) $\\int \\sqrt{10x},dx=\\sqrt10 \\cdot x^{\\frac{3}{2}} \\cdot \\frac{2}{3} +c$\n",
        "\n",
        "k) $\\int cos(\\frac{5}{2}x+3)dx$\n",
        "\n",
        ") $\\int \\frac{cos(ln(x))}{x}dx=cos(ln(x)) \\cdot ln(x)$\n",
        "\n",
        ") $\\int xln(x),dx$\n",
        "\n",
        "n) $\\int xe^x,dx=\\frac{xe^x}{1}=xe^x$\n",
        "\n"
      ],
      "metadata": {
        "id": "5jYoPTJ4XVKQ"
      }
    }
  ]
}