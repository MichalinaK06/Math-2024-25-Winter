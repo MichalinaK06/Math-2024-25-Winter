{
  "nbformat": 4,
  "nbformat_minor": 0,
  "metadata": {
    "colab": {
      "provenance": []
    },
    "kernelspec": {
      "name": "python3",
      "display_name": "Python 3"
    },
    "language_info": {
      "name": "python"
    }
  },
  "cells": [
    {
      "cell_type": "markdown",
      "source": [
        "\n",
        "\tPlanes\n",
        "\tPlanes in space.\n",
        "\tVector equation of a plane.\n",
        "\tGeneral equation of a plane.\n",
        "\tPlane equation passing through three points.\n",
        "\tPlane equation in intercept form on the coordinate axes.\n",
        "\tSpecial cases of plane positioning.\n",
        "\tAngle between two planes.\n",
        "\tConditions for parallelism and perpendicularity of two planes.\n",
        "\tLine in space.\n",
        "\tTypes of line equations in space.\n",
        "\tRelative positions of a line and a plane.\n",
        "\tRelative positions of two lines.\n",
        "\tAngle between a line and a plane.\n"
      ],
      "metadata": {
        "id": "SVa9rLOXgzJe"
      }
    },
    {
      "cell_type": "markdown",
      "source": [
        "\n",
        "\n",
        "B.The plane passes through point A(1,2,3) and is parallel to the plane 2x+3y+4z=5. Find the equation of the plane.\n",
        "\n",
        "C.The plane passes through point A(1,2,3) and is perpendicular to the normal vector n→=[2,3,4]. Find the equation of the plane.\n",
        "\n",
        "D.We have two planes 2x+3y+4z=5 and 3x+4y+2z=6. Find the line of intersection of these planes.\n",
        "\n",
        "E.Write the equation of the plane passing through point A(1,2,3) and parallel to vectors v1→=[1,0,1] and v2→=[0,1,−1].\n",
        "\n",
        "F.We have the plane 2x+3y+4z=5. Find an example of a plane parallel and perpendicular to it.\n",
        "\n",
        "\n",
        "\n",
        "H.The plane intersects the coordinate axes at points A(2,0,0), B(0,3,0), and C(0,0,4). Find the equation of the plane.\n",
        "\n",
        "I.Calculate the angle between the plane x+y+z=1 and the plane x=0 (i.e., the yz plane).\n",
        "\n",
        "J.Find the vector perpendicular to the plane x+y+z=1."
      ],
      "metadata": {
        "id": "6fH7LvEEQhzs"
      }
    },
    {
      "cell_type": "markdown",
      "source": [
        "#notes"
      ],
      "metadata": {
        "id": "k9hyQF4DSz1A"
      }
    },
    {
      "cell_type": "markdown",
      "source": [
        "general plane equasion\n",
        "$$Ax+By+Cz+D=0$$"
      ],
      "metadata": {
        "id": "P5gzAg89YvUD"
      }
    },
    {
      "cell_type": "markdown",
      "source": [
        "Plane equasion if you have 3 points\n",
        "$A(x_1,y_1,z_1) B(x_2,y_2,z_2) C(x_3,y_3,z_3)$\n",
        "\n",
        "$$\\begin{bmatrix}\n",
        "x-x_1 & y-y_1&z-z_1\\\\\n",
        "x_2-x_1&y_2-y_1&z_2-z_1\\\\\n",
        "x_3-x_1&y_3-y_1&z_3-z_1\n",
        "\\end{bmatrix}$$\n",
        "then you do det of the matrix"
      ],
      "metadata": {
        "id": "nSrt722MS4lY"
      }
    },
    {
      "cell_type": "markdown",
      "source": [
        "planes are paralell when\n",
        "\n",
        "\n",
        "their normal vectors are parallel.\n",
        "\n",
        "The normal vector ($Ax + By + Cz + D = 0$) the normal vector: $\\mathbf{n} = [A, B, C]$.\n",
        "\n",
        "$A_1x + B_1y + C_1z + D_1 = 0$\n",
        "$A_2x + B_2y + C_2z + D_2 = 0$\n",
        "\n",
        "\n",
        "These planes are parallel if their normal vectors are proportional\n",
        "\n",
        "$$\n",
        "\\frac{A_1}{A_2} = \\frac{B_1}{B_2} = \\frac{C_1}{C_2}\n",
        "$$\n"
      ],
      "metadata": {
        "id": "px5NMzUqdjoa"
      }
    },
    {
      "cell_type": "markdown",
      "source": [
        "distance from point $P(x_0,y_0,z_0)$ to plane\n",
        "\n",
        "$$d=\\frac{|Ax_0+By_0+Cz_0+D|}{\\sqrt{A^2+B^2+C^2}}$$"
      ],
      "metadata": {
        "id": "5QIrDJPDZaUH"
      }
    },
    {
      "cell_type": "markdown",
      "source": [
        "#exercises"
      ],
      "metadata": {
        "id": "gpVakSOnS1ut"
      }
    },
    {
      "cell_type": "markdown",
      "source": [
        "A.\n",
        "The plane passes through points A(1,2,3), B(3,4,5), and C(2,1,4). Find the equation of the plane.\n",
        "\n",
        "$A(1,2,3) B(3,4,5) C(2,1,4)$\n",
        "\n",
        "$$\\begin{bmatrix}\n",
        "x-x_1 & y-y_1&z-z_1\\\\\n",
        "x_2-x_1&y_2-y_1&z_2-z_1\\\\\n",
        "x_3-x_1&y_3-y_1&z_3-z_1\n",
        "\\end{bmatrix}$$\n",
        "\n",
        "$$\\begin{bmatrix}\n",
        "x-1 & y-2&z-3\\\\\n",
        "3-1&4-2&5-3\\\\\n",
        "2-1&1-2&4-3\n",
        "\\end{bmatrix}=\n",
        "\\begin{bmatrix}\n",
        "x-1 & y-2&z-3\\\\\n",
        "2&2&2\\\\\n",
        "1&-1&1\n",
        "\\end{bmatrix}$$\n",
        "\n",
        "$$det=(x-1)\\times4-(y-2)\\times0+(z-3)\\times(-4)=4x-4-4z+12=4x-4z+8=x-z+2$$\n",
        "\n",
        "plane equasion is $x-z+2$"
      ],
      "metadata": {
        "id": "1ak05GOiU_Re"
      }
    },
    {
      "cell_type": "markdown",
      "source": [
        "G.\n",
        "We have the plane 2x+3y+4z-5=0 and point A(1,2,3). Find the distance from point A to this plane.\n",
        "\n",
        "$$d=\\frac{|2\\times1+3\\times2+4\\times3+(-5)|}{\\sqrt{2^2+3^2+4^2}}=\\frac{2+6+12-5}{\\sqrt{4+9+16}}=\\frac{15}{\\sqrt{29}}$$"
      ],
      "metadata": {
        "id": "ZqGj5otEa6ZM"
      }
    }
  ]
}