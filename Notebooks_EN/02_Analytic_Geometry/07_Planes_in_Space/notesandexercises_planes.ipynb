{
  "nbformat": 4,
  "nbformat_minor": 0,
  "metadata": {
    "colab": {
      "provenance": []
    },
    "kernelspec": {
      "name": "python3",
      "display_name": "Python 3"
    },
    "language_info": {
      "name": "python"
    }
  },
  "cells": [
    {
      "cell_type": "markdown",
      "source": [
        "\n",
        "\n"
      ],
      "metadata": {
        "id": "6fH7LvEEQhzs"
      }
    },
    {
      "cell_type": "markdown",
      "source": [
        "#notes"
      ],
      "metadata": {
        "id": "k9hyQF4DSz1A"
      }
    },
    {
      "cell_type": "markdown",
      "source": [
        "general plane equasion\n",
        "$$Ax+By+Cz+D=0$$"
      ],
      "metadata": {
        "id": "P5gzAg89YvUD"
      }
    },
    {
      "cell_type": "markdown",
      "source": [
        "Plane equasion if you have 3 points\n",
        "$A(x_1,y_1,z_1) B(x_2,y_2,z_2) C(x_3,y_3,z_3)$\n",
        "\n",
        "$$\\begin{bmatrix}\n",
        "x-x_1 & y-y_1&z-z_1\\\\\n",
        "x_2-x_1&y_2-y_1&z_2-z_1\\\\\n",
        "x_3-x_1&y_3-y_1&z_3-z_1\n",
        "\\end{bmatrix}$$\n",
        "then you do det of the matrix"
      ],
      "metadata": {
        "id": "nSrt722MS4lY"
      }
    },
    {
      "cell_type": "markdown",
      "source": [
        "intercept plane equasion, when plane intersects at points $A(a,0,0),B(0,b,0),C(0,0,c)$\n",
        "\n",
        "$$\\frac{x}{a}+\\frac{y}{b}+\\frac{z}{c}=1$$"
      ],
      "metadata": {
        "id": "IgzjYa93Feo2"
      }
    },
    {
      "cell_type": "markdown",
      "source": [
        "planes are paralell when\n",
        "\n",
        "\n",
        "their normal vectors are parallel.\n",
        "\n",
        "Only D changes\n",
        "The normal vector ($Ax + By + Cz + D = 0$) the normal vector: $\\mathbf{n} = [A, B, C]$.\n",
        "\n",
        "$A_1x + B_1y + C_1z + D_1 = 0$\n",
        "\n",
        "$A_2x + B_2y + C_2z + D_2 = 0$\n",
        "\n",
        "\n",
        "These planes are parallel if their normal vectors are proportional\n",
        "\n",
        "$$\n",
        "\\frac{A_1}{A_2} = \\frac{B_1}{B_2} = \\frac{C_1}{C_2}\n",
        "$$\n",
        " formula when you have a point and another paralel line\n",
        " $$A(x-x_0) + B(y-y_0) + C(z-z_0) - D=0$$"
      ],
      "metadata": {
        "id": "px5NMzUqdjoa"
      }
    },
    {
      "cell_type": "markdown",
      "source": [
        "distance from point $P(x_0,y_0,z_0)$ to plane\n",
        "\n",
        "$$d=\\frac{|Ax_0+By_0+Cz_0+D|}{\\sqrt{A^2+B^2+C^2}}$$"
      ],
      "metadata": {
        "id": "5QIrDJPDZaUH"
      }
    },
    {
      "cell_type": "markdown",
      "source": [
        "line intersection of planes\n",
        "\n",
        "$$direction\\space vector=n1 \\times n2$$"
      ],
      "metadata": {
        "id": "Lyf09tr7I7iN"
      }
    },
    {
      "cell_type": "markdown",
      "source": [
        "angle between planes\n",
        "\n",
        "normal vectors\n",
        "\n",
        "$$cos=\\frac{n_1\\cdot n_2}{|n_1||n_2|}$$"
      ],
      "metadata": {
        "id": "uvIqUnYf4law"
      }
    },
    {
      "cell_type": "markdown",
      "source": [
        "every scalar of the normal vector of the plane is perpendicular n=[1,1,1] so for exaple v=[3,3,3] is perpendicular"
      ],
      "metadata": {
        "id": "5HQtzv432pJi"
      }
    },
    {
      "cell_type": "markdown",
      "source": [
        "#exercises"
      ],
      "metadata": {
        "id": "gpVakSOnS1ut"
      }
    },
    {
      "cell_type": "markdown",
      "source": [
        "A.\n",
        "The plane passes through points A(1,2,3), B(3,4,5), and C(2,1,4). Find the equation of the plane.\n",
        "\n",
        "$A(1,2,3) B(3,4,5) C(2,1,4)$\n",
        "\n",
        "$$\\begin{bmatrix}\n",
        "x-x_1 & y-y_1&z-z_1\\\\\n",
        "x_2-x_1&y_2-y_1&z_2-z_1\\\\\n",
        "x_3-x_1&y_3-y_1&z_3-z_1\n",
        "\\end{bmatrix}$$\n",
        "\n",
        "$$\\begin{bmatrix}\n",
        "x-1 & y-2&z-3\\\\\n",
        "3-1&4-2&5-3\\\\\n",
        "2-1&1-2&4-3\n",
        "\\end{bmatrix}=\n",
        "\\begin{bmatrix}\n",
        "x-1 & y-2&z-3\\\\\n",
        "2&2&2\\\\\n",
        "1&-1&1\n",
        "\\end{bmatrix}$$\n",
        "\n",
        "$$det=(x-1)(2 + 2) - (y-2)(2 - 2) + (z-3)(-2 - 2)=4x-4z+8$$\n",
        "\n",
        "plane equasion is $x-z+2$\n",
        "\n",
        "https://www.geogebra.org/calculator/juxnnaae"
      ],
      "metadata": {
        "id": "1ak05GOiU_Re"
      }
    },
    {
      "cell_type": "markdown",
      "source": [
        "B.The plane passes through point A(1,2,3) and is parallel to the plane 2x+3y+4z=5. Find the equation of the plane.\n",
        "\n",
        "$2x + 3y + 4z -5 = 0$\n",
        "\n",
        "$n=[2,3,4]$\n",
        "\n",
        "$$A(x-1) + B(y-2) + C(z-3)=0$$\n",
        "$$2(x-1) + 3(y-2) + 4(z-3)=0$$\n",
        "$$2x-2 + 3y-6 + 4z-12=0$$\n",
        "$$2x+ 3y + 4z-20 = 0$$\n",
        "\n",
        "https://www.geogebra.org/calculator/gkjygdrp\n"
      ],
      "metadata": {
        "id": "YDDd1G22V9yb"
      }
    },
    {
      "cell_type": "markdown",
      "source": [
        "C.The plane passes through point A(1,2,3) and is perpendicular to the normal vector n→=[2,3,4]. Find the equation of the plane.\n",
        "\n",
        " $$a(x-x_0) + b(y-y_0) + c(z-z_0)=0$$\n",
        " in which a,b,c is vector\n",
        " $$2(x-1) + 3(y-2) + 4(z-3)=0$$\n",
        " $$2x-2 + 3y-6 + 4z-12=0$$\n",
        " $$2x + 3y + 4z=20$$\n",
        "\n",
        " https://www.geogebra.org/calculator/djvubwut\n"
      ],
      "metadata": {
        "id": "-ZCKm-3eLSpi"
      }
    },
    {
      "cell_type": "markdown",
      "source": [
        "D.We have two planes 2x+3y+4z=5 and 3x+4y+2z=6. Find the line of intersection of these planes.\n",
        "\n",
        "\n",
        "1.convert to x\n",
        "$$2x+3y+4z=5$$\n",
        "$$x=-\\frac{3}{2}y-2z+\\frac{5}{2}$$\n",
        "$$3x+4y+2z=6$$\n",
        "$$x=\\frac{4}{3}y+\\frac{2}{3}z+2$$\n",
        "2.substitute\n",
        "$$-\\frac{3}{2}y-2z+\\frac{5}{2}=\\frac{4}{3}y+\\frac{2}{3}z+2 \\space / \\times 6$$\n",
        "$$-9y-12z+15=8y+4z+12$$\n",
        "$$-16z=17y-3$$\n",
        "$$z=-\\frac{17}{16}y+\\frac{3}{16}$$\n",
        "3.substitute to 1st eq\n",
        "$$x=-\\frac{3}{2}y-2(-\\frac{17}{16}y+\\frac{3}{16})+\\frac{5}{2}$$\n",
        "\n",
        "$$x=-\\frac{3}{2}y+\\frac{17}{8}y-\\frac{3}{8}+\\frac{5}{2}$$\n",
        "\n",
        "$$x=-\\frac{11}{8}y+\\frac{17}{8}$$\n",
        "4.we know that y=y so we can write everything as y=t\n",
        "$$x=-\\frac{11}{8}t+\\frac{17}{8}$$\n",
        "$$y=t$$\n",
        "$$z=-\\frac{17}{16}t+\\frac{3}{16}$$\n",
        "5.write in vector form\n",
        "$$r=[\\frac{17}{8},0,\\frac{3}{16}]+t[-\\frac{17}{16},1,-\\frac{17}{16}]$$\n"
      ],
      "metadata": {
        "id": "-TsSpd8mJs3Y"
      }
    },
    {
      "cell_type": "markdown",
      "source": [
        "E.Write the equation of the plane passing through point A(1,2,3) and parallel to vectors v1→=[1,0,1] and v2→=[0,1,−1].\n",
        "\n",
        "1.cross product of 2 vectors\n",
        "\n",
        "$n = v_1 \\times v_2 = [1, 0, 1] \\times [0, 1, -1] = [-1, 1, 1]$\n",
        "\n",
        "2. substitute point and vector\n",
        "$$-1(x - 1) + 1(y - 2) + 1(z - 3) = 0$$\n",
        "$$x - y - z + 4 = 0$$\n"
      ],
      "metadata": {
        "id": "FSYtx62x72ew"
      }
    },
    {
      "cell_type": "markdown",
      "source": [
        "F.We have the plane 2x+3y+4z=5. Find an example of a plane parallel and perpendicular to it.\n",
        "\n",
        "every plane that has 2x+3y+4z is paralell only virable that changes is d for example\n",
        "\n",
        "$2x+3y+4z+1,2,3,4=0$\n",
        "\n",
        "perpendicular z is multiplwed by (-1) and D can be whatever\n",
        "\n",
        "$2x+3y-4z=D$\n",
        "\n"
      ],
      "metadata": {
        "id": "zhsyG2c467ev"
      }
    },
    {
      "cell_type": "markdown",
      "source": [
        "G.\n",
        "We have the plane 2x+3y+4z-5=0 and point A(1,2,3). Find the distance from point A to this plane.\n",
        "\n",
        "$$d=\\frac{|2\\times1+3\\times2+4\\times3+(-5)|}{\\sqrt{2^2+3^2+4^2}}=\\frac{2+6+12-5}{\\sqrt{4+9+16}}=\\frac{15}{\\sqrt{29}}=\\frac{15\\sqrt{29}}{29}$$"
      ],
      "metadata": {
        "id": "ZqGj5otEa6ZM"
      }
    },
    {
      "cell_type": "markdown",
      "source": [
        "H.The plane intersects the coordinate axes at points A(2,0,0), B(0,3,0), and C(0,0,4). Find the equation of the plane.\n",
        "\n",
        "intercept form $\\frac{x}{a}+\\frac{y}{b}+\\frac{z}{c}=1$\n",
        "\n",
        "$$\\frac{x}{2}+\\frac{y}{3}+\\frac{z}{4}=1 \\space /\\times12$$\n",
        "$$6x+4y+3z=12$$"
      ],
      "metadata": {
        "id": "3tmoGuIBFVDz"
      }
    },
    {
      "cell_type": "markdown",
      "source": [
        "I.Calculate the angle between the plane x+y+z=1 and the plane x=0 (i.e., the yz plane).\n",
        "$n_1=[1,1,1]$\n",
        "\n",
        "$n_2=[1,0,0]$\n",
        "\n",
        "$$cos=\\frac{n_1\\cdot n_2}{|n_1||n_2|}=\\frac{1}{\\sqrt3\\sqrt1}=\\frac{\\sqrt3}{3}$$\n"
      ],
      "metadata": {
        "id": "1azByV_I32x_"
      }
    },
    {
      "cell_type": "markdown",
      "source": [
        "J.Find the vector perpendicular to the plane x+y+z=1.\n",
        "\n",
        "n=[1,1,1] but every scalar of it is also perpendicular\n"
      ],
      "metadata": {
        "id": "tH_JYSWJIKQb"
      }
    },
    {
      "cell_type": "markdown",
      "source": [
        " Nontes for section 16. Equations of Planes in Space## 1. Equation of a Plane Passing Through Three PointsIf the plane passes through points $A(x_1, y_1, z_1)$, $B(x_2, y_2, z_2)$, and $C(x_3, y_3, z_3)$, the equation is:1. Find two vectors:   $$   \\vec{AB} = \\langle x_2 - x_1, y_2 - y_1, z_2 - z_1 \\rangle, \\quad \\vec{AC} = \\langle x_3 - x_1, y_3 - y_1, z_3 - z_1 \\rangle   $$2. Compute the normal vector:   $$   \\vec{n} = \\vec{AB} \\times \\vec{AC}   $$3. Write the plane equation:   $$   A(x - x_1) + B(y - y_1) + C(z - z_1) = 0   $$   where $A$, $B$, and $C$ are the components of $\\vec{n}$.---## 2. Equation of a Plane Parallel to Another PlaneIf a plane passes through a point $A(x_1, y_1, z_1)$ and is parallel to the plane $Ax + By + Cz + D = 0$, its equation is:$$A(x - x_1) + B(y - y_1) + C(z - z_1) = 0$$or equivalently:$$Ax + By + Cz + D' = 0$$where $D' = -(Ax_1 + By_1 + Cz_1)$.---## 3. Equation of a Plane Perpendicular to a Given Normal VectorIf the plane passes through point $A(x_1, y_1, z_1)$ and is perpendicular to the normal vector $\\mathbf{n} = [A, B, C]$, the equation is:$$A(x - x_1) + B(y - y_1) + C(z - z_1) = 0$$---## 4. Line of Intersection of Two PlanesFor two planes $A_1x + B_1y + C_1z + D_1 = 0$ and $A_2x + B_2y + C_2z + D_2 = 0$, the line of intersection can be found as follows:1. Solve the system of equations to find a point on the line.2. Compute the direction vector of the line as:   $$   \\vec{d} = \\vec{n_1} \\times \\vec{n_2}   $$   where $\\vec{n_1} = [A_1, B_1, C_1]$ and $\\vec{n_2} = [A_2, B_2, C_2]$.The parametric equation of the line is:$$\\vec{r}(t) = \\vec{r_0} + t\\vec{d}$$where $\\vec{r_0}$ is the point on the line.---## 5. Plane Passing Through a Point and Parallel to Two VectorsIf the plane passes through point $A(x_1, y_1, z_1)$ and is parallel to vectors $\\vec{v_1} = [v_{1x}, v_{1y}, v_{1z}]$ and $\\vec{v_2} = [v_{2x}, v_{2y}, v_{2z}]$, the normal vector is:$$\\vec{n} = \\vec{v_1} \\times \\vec{v_2}$$The equation of the plane is:$$A(x - x_1) + B(y - y_1) + C(z - z_1) = 0$$---## 6. Parallel and Perpendicular Planes- A plane **parallel** to $Ax + By + Cz + D = 0$ has the same normal vector $\\vec{n} = [A, B, C]$ but a different $D'$.- A plane **perpendicular** to it has a normal vector orthogonal to $\\vec{n}$.---## 7. Distance from a Point to a PlaneThe distance $d$ from a point $P(x_0, y_0, z_0)$ to a plane $Ax + By + Cz + D = 0$ is:$$d = \\frac{|Ax_0 + By_0 + Cz_0 + D|}{\\sqrt{A^2 + B^2 + C^2}}$$---## 8. Equation of a Plane from InterceptsIf a plane intersects the coordinate axes at points $A(a, 0, 0)$, $B(0, b, 0)$, and $C(0, 0, c)$, its equation is:$$\\frac{x}{a} + \\frac{y}{b} + \\frac{z}{c} = 1$$---## 9. Angle Between Two PlanesThe angle $\\theta$ between two planes $A_1x + B_1y + C_1z + D_1 = 0$ and $A_2x + B_2y + C_2z + D_2 = 0$ is:$$\\cos\\theta = \\frac{|A_1A_2 + B_1B_2 + C_1C_2|}{\\sqrt{A_1^2 + B_1^2 + C_1^2} \\sqrt{A_2^2 + B_2^2 + C_2^2}}$$---## 10. Vector Perpendicular to a PlaneThe vector perpendicular to the plane $Ax + By + Cz + D = 0$ is simply:$$\\vec{n} = [A, B, C]$$"
      ],
      "metadata": {
        "id": "9u7kjlknYVh0"
      }
    }
  ]
}