{
  "nbformat": 4,
  "nbformat_minor": 0,
  "metadata": {
    "colab": {
      "provenance": []
    },
    "kernelspec": {
      "name": "python3",
      "display_name": "Python 3"
    },
    "language_info": {
      "name": "python"
    }
  },
  "cells": [
    {
      "cell_type": "markdown",
      "source": [
        "The line passes through points A(1,2) and\n",
        "B\n",
        "(\n",
        "3\n",
        ",\n",
        "4\n",
        "). Find the equation of the line.\n",
        "The line passes through point\n",
        "A\n",
        "(\n",
        "1\n",
        ",\n",
        "2\n",
        ")\n",
        " and is parallel to the line\n",
        "y\n",
        "=\n",
        "2\n",
        "x\n",
        "+\n",
        "3\n",
        ". Find the equation of the line.\n",
        "The line passes through point\n",
        "A\n",
        "(\n",
        "1\n",
        ",\n",
        "2\n",
        ")\n",
        " and is perpendicular to the line\n",
        "y\n",
        "=\n",
        "2\n",
        "x\n",
        "+\n",
        "3\n",
        ". Find the equation of the line.\n",
        "We have two lines\n",
        "y\n",
        "=\n",
        "2\n",
        "x\n",
        "+\n",
        "3\n",
        " and\n",
        "y\n",
        "=\n",
        "3\n",
        "x\n",
        "+\n",
        "2\n",
        ". Find the intersection point of these lines and calculate the angle between them.\n",
        "Write the equation of the line passing through point\n",
        "A\n",
        "(\n",
        "1\n",
        ",\n",
        "2\n",
        ")\n",
        " and parallel to the vector\n",
        "v\n",
        "→\n",
        "=\n",
        "[\n",
        "2\n",
        ",\n",
        "3\n",
        "]\n",
        ".\n",
        "We have the line\n",
        "y\n",
        "=\n",
        "2\n",
        "x\n",
        "+\n",
        "3\n",
        ". Find an example of a line perpendicular and parallel to it.\n",
        "We have the line\n",
        "y\n",
        "=\n",
        "2\n",
        "x\n",
        "+\n",
        "3\n",
        " and point\n",
        "A\n",
        "(\n",
        "1\n",
        ",\n",
        "2\n",
        ")\n",
        ". Find the distance from point\n",
        "A\n",
        " to the line.\n",
        "The line intersects the coordinate axes at points\n",
        "A\n",
        "(\n",
        "2\n",
        ",\n",
        "0\n",
        ")\n",
        " and\n",
        "B\n",
        "(\n",
        "0\n",
        ",\n",
        "3\n",
        ")\n",
        ". Find the equation of the line.\n",
        "Calculate the angle between the line\n",
        "y\n",
        "=\n",
        "x\n",
        "+\n",
        "3\n",
        " and the\n",
        "O\n",
        "x\n",
        " axis.\n",
        "Provide a vector perpendicular to the line\n",
        "x\n",
        "+\n",
        "y\n",
        "+\n",
        "1\n",
        "=\n",
        "0\n",
        "."
      ],
      "metadata": {
        "id": "9sIwT-R6SnsZ"
      }
    },
    {
      "cell_type": "markdown",
      "source": [
        "\n",
        "\tTypes of line equations in the plane.\n",
        "\tCanonical equation of a line.\n",
        "\tLine equation in intercept form on the coordinate axes.\n",
        "\tLine equation in slope form.\n",
        "\tLine equation passing through a given point in a given direction.\n",
        "\tLine equation passing through two given points.\n",
        "\tRelative positions of lines in the plane.\n",
        "\tIntersection of two lines.\n",
        "\tAngle between two lines.\n",
        "\tConditions for parallelism and perpendicularity of two lines.\n"
      ],
      "metadata": {
        "id": "SVa9rLOXgzJe"
      }
    },
    {
      "cell_type": "markdown",
      "source": [
        "general equasion of a line\n",
        "$$y=mx+b$$"
      ],
      "metadata": {
        "id": "KqMqaI7jTkUe"
      }
    },
    {
      "cell_type": "markdown",
      "source": [
        "calculating m from 2 points\n",
        "$$m=\\frac{y_2-y_1}{x_2-x_1}$$"
      ],
      "metadata": {
        "id": "kbUYoE-STap3"
      }
    },
    {
      "cell_type": "markdown",
      "source": [
        "lines aere parallel if\n",
        "$$m_1=m_2$$\n",
        "penpedicular\n",
        "$$m_1 \\times m_2 = -1$$\n"
      ],
      "metadata": {
        "id": "Wlj3GhiDVGyF"
      }
    },
    {
      "cell_type": "markdown",
      "source": [
        "#Exercises\n",
        "A.\n",
        "The line passes through points A(1,2) and B(3,4)\n",
        ". Find the equation of the line.\n",
        "$$m=\\frac{y_2-y_1}{x_2-x_1}=\\frac{3-4}{1-2}=\\frac{-1}{-1}=1$$\n",
        "$y=mx+b$\n",
        "\n",
        "$2=1\\times1+b$\n",
        "\n",
        "$b=1$\n",
        "\n",
        "$y=x+1$"
      ],
      "metadata": {
        "id": "ofN4F2B9Tyie"
      }
    },
    {
      "cell_type": "markdown",
      "source": [
        "B.\n",
        "The line passes through point A(1,2) and is parallel to the line y=2x+3. Find the equation of the line.\n",
        "\n",
        "$$m=2$$\n",
        "$$m_1=m_2$$\n",
        "$$m_2=2$$\n",
        "$$2=2\\times 1+b$$\n",
        "$$b=0$$\n",
        "$$y=2x$$\n"
      ],
      "metadata": {
        "id": "Qho3ZZFiVywq"
      }
    }
  ]
}