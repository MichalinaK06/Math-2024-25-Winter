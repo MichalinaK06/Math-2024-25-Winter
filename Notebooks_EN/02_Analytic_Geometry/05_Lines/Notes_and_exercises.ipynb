{
  "nbformat": 4,
  "nbformat_minor": 0,
  "metadata": {
    "colab": {
      "provenance": []
    },
    "kernelspec": {
      "name": "python3",
      "display_name": "Python 3"
    },
    "language_info": {
      "name": "python"
    }
  },
  "cells": [
    {
      "cell_type": "markdown",
      "source": [
        "#notes"
      ],
      "metadata": {
        "id": "ApgS2AW7EqWD"
      }
    },
    {
      "cell_type": "markdown",
      "source": [
        "✩Types of line equasions:\n",
        "\n",
        "-Canonical/general equasion of a line\n",
        "$$Ax+By=C$$\n",
        "\n",
        "-slope-intercept form (m is slope, b is intercepting in y axis)\n",
        "$$y=mx+b$$\n",
        "\n",
        "-line equasion with a point $(x_1, y_1)$\n",
        "$$y - y_1 = m(x - x_1)$$"
      ],
      "metadata": {
        "id": "KqMqaI7jTkUe"
      }
    },
    {
      "cell_type": "markdown",
      "source": [
        "✩calculating m(slope) from 2 given points:\n",
        "$$m=\\frac{y_2-y_1}{x_2-x_1}$$\n",
        "then if you want to find line equasion sub one of the points in the general equasion"
      ],
      "metadata": {
        "id": "kbUYoE-STap3"
      }
    },
    {
      "cell_type": "markdown",
      "source": [
        "✩parallelism and perpendicularity of lines:\n",
        "\n",
        "-lines are parallel if\n",
        "$$m_1=m_2$$\n",
        "=\n",
        "\n",
        "-lines are penpedicular\n",
        "$$m_1 \\times m_2 = -1$$\n",
        "+"
      ],
      "metadata": {
        "id": "Wlj3GhiDVGyF"
      }
    },
    {
      "cell_type": "markdown",
      "source": [
        "✩If want to find intersection point of two lines:\n",
        "-add them, then from that find x and y"
      ],
      "metadata": {
        "id": "3ysXcTRrbKSX"
      }
    },
    {
      "cell_type": "markdown",
      "source": [
        "✩Finding line eq from a vector v=(a,b) and a point\n",
        "\n",
        "$m = \\frac{b}{a}$\n",
        "then sub point"
      ],
      "metadata": {
        "id": "CWEod2uXiMmN"
      }
    },
    {
      "cell_type": "markdown",
      "source": [
        "✩line point distance\n",
        "from general line form and P(x,y)\n",
        "$$d=\\frac{|A\\times x + B\\times y +C|}{\\sqrt{A^2+B^2}}$$"
      ],
      "metadata": {
        "id": "wo_B65sXEti6"
      }
    },
    {
      "cell_type": "markdown",
      "source": [
        "✩intercept form if we have two pionts A(a,0) and B(0,b) it can be written as\n",
        "$$\\frac{x}{a}+\\frac{y}{b}=1$$"
      ],
      "metadata": {
        "id": "DZpoZOpKH9Mr"
      }
    },
    {
      "cell_type": "markdown",
      "source": [
        "✩angle between ox axis and line is\n",
        "$$tan(α)=m$$\n",
        "between lines\n",
        "$$tan(α) = \\frac{|m_2-m_1| }{ |1 + m_1 \\times m_2|}$$"
      ],
      "metadata": {
        "id": "W25u9qnfIqlA"
      }
    },
    {
      "cell_type": "markdown",
      "source": [
        "vector penpedicular to a point is <1,m>\n",
        "Ax+By+c=0\n",
        "perpendicular vector is v=[A,B]"
      ],
      "metadata": {
        "id": "4pgUs8hqLhYc"
      }
    },
    {
      "cell_type": "markdown",
      "source": [
        "#Exercises\n",
        "A.\n",
        "The line passes through points A(1,2) and B(3,4)\n",
        ". Find the equation of the line.\n",
        "$$m=\\frac{y_2-y_1}{x_2-x_1}=\\frac{3-4}{1-2}=\\frac{-1}{-1}=1$$\n",
        "$y=mx+b$\n",
        "\n",
        "$2=1\\times1+b$\n",
        "\n",
        "$b=1$\n",
        "\n",
        "$y=x+1$"
      ],
      "metadata": {
        "id": "ofN4F2B9Tyie"
      }
    },
    {
      "cell_type": "markdown",
      "source": [
        "B.\n",
        "The line passes through point A(1,2) and is parallel to the line y=2x+3. Find the equation of the line.\n",
        "\n",
        "$$m=2$$\n",
        "$$m_1=m_2$$\n",
        "$$m_2=2$$\n",
        "$$2=2\\times 1+b$$\n",
        "$$b=0$$\n",
        "$$y=2x$$\n"
      ],
      "metadata": {
        "id": "Qho3ZZFiVywq"
      }
    },
    {
      "cell_type": "markdown",
      "source": [
        "C.The line passes through point A(1,2) and is perpendicular to the line y=2x+3. Find the equation of the line.\n",
        "$$m=2$$\n",
        "\n",
        "$$m_1 \\times m_2 = -1$$\n",
        "\n",
        "$$2\\times m_2 = -1$$\n",
        "\n",
        "$$2=1\\times -\\frac{1}{2} + b$$\n",
        "\n",
        "$$b=2\\frac{1}{2}$$\n",
        "\n",
        "$$y=-\\frac{1}{2}+2\\frac{1}{2}$$"
      ],
      "metadata": {
        "id": "sPpRFFrGZbiM"
      }
    },
    {
      "cell_type": "markdown",
      "source": [
        "D.We have two lines y=2x+3 and y=3x+2. Find the intersection point of these lines and calculate the angle between them.\n",
        "\n",
        "$y=2x+3$\n",
        "\n",
        "$y=3x+2$\n",
        "$$2y=5x+5$$\n",
        "\n",
        "$$y=2,5x+2,5$$\n",
        "\n",
        "$$2,5x+2,5=2x+3$$\n",
        "\n",
        "$$0,5x=0,5$$\n",
        "\n",
        "$$x=1$$\n",
        "\n",
        "$$y=2\\times 1+3$$\n",
        "\n",
        "$$y=5$$\n",
        "\n",
        "$$(1,5)$$"
      ],
      "metadata": {
        "id": "6_CkAYCHbbYp"
      }
    },
    {
      "cell_type": "markdown",
      "source": [
        "E.\n",
        "Write the equation of the line passing through point A(1,2) and parallel to the vector v→=[2,3].\n",
        "$$m = \\frac{b}{a}=\\frac{3}{2}=1,5$$\n",
        "$$2=1,5\\times 1+b$$\n",
        "$$b=0,5$$\n",
        "$$y=1,5x+0,5$$\n",
        "\n",
        "https://www.geogebra.org/calculator/ugpcbnnd"
      ],
      "metadata": {
        "id": "PnF9kJeWioRH"
      }
    },
    {
      "cell_type": "markdown",
      "source": [
        "F.\n",
        "We have the line y=2x+3. Find an example of a line perpendicular and parallel to it.\n",
        "\n",
        "every line that has m=2 is paralell examples:\n",
        "\n",
        "$y=2x+3, 4,5 .....$\n",
        "\n",
        "https://www.geogebra.org/calculator/peqbtdnu\n",
        "\n",
        "and every line that has $m=-\\frac{1}{2}$ is perpendicular because $2\\times m_2= -1$, $m=-\\frac{1}{2}$ examples\n",
        "\n",
        "$y=-\\frac{1}{2}x+ 2, 3, 4, ....$\n",
        "\n",
        "https://www.geogebra.org/calculator/asnxmxdc\n",
        "\n"
      ],
      "metadata": {
        "id": "8AyuQ1hCBM3e"
      }
    },
    {
      "cell_type": "markdown",
      "source": [
        "G.\n",
        "We have the line y=2x+3 and point A(1,2). Find the distance from point A to the line.\n",
        "$2x-y+3=0$\n",
        "$$d=\\frac{|A\\times x + B\\times y +C|}{\\sqrt{A^2+B^2}}=\\frac{|2-2+3|}{\\sqrt{4+1}}=\\frac{3}{\\sqrt{5}}$$"
      ],
      "metadata": {
        "id": "axhLJA2LEhqL"
      }
    },
    {
      "cell_type": "markdown",
      "source": [
        "H.The line intersects the coordinate axes at points A(2,0) and B(0,3). Find the equation of the line.\n",
        "\n",
        "$$\\frac{x}{a}+\\frac{y}{b}=1$$\n",
        "\n",
        "$$\\frac{x}{2}+\\frac{y}{3}=1$$"
      ],
      "metadata": {
        "id": "8x45-WwTHYkW"
      }
    },
    {
      "cell_type": "markdown",
      "source": [
        "I.Calculate the angle between the line y=x+3 and the Ox axis.\n",
        "$$tan(α)=m$$\n",
        "\n",
        "$$tan(α)=1$$\n",
        "$$α=45^\\circ$$"
      ],
      "metadata": {
        "id": "k5JDpeQIIglO"
      }
    },
    {
      "cell_type": "markdown",
      "source": [
        "J.Provide a vector perpendicular to the line x+y+1=0.\n",
        "\n",
        "y=-x-1\n",
        "\n",
        "<1,-1>"
      ],
      "metadata": {
        "id": "OAYPcStkKqhf"
      }
    }
  ]
}