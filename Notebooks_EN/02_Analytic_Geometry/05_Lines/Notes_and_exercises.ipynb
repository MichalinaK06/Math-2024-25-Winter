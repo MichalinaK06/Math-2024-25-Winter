{
  "nbformat": 4,
  "nbformat_minor": 0,
  "metadata": {
    "colab": {
      "provenance": []
    },
    "kernelspec": {
      "name": "python3",
      "display_name": "Python 3"
    },
    "language_info": {
      "name": "python"
    }
  },
  "cells": [
    {
      "cell_type": "markdown",
      "source": [
        "\n",
        "\tTypes of line equations in the plane.\n",
        "\tCanonical equation of a line.\n",
        "\tLine equation in intercept form on the coordinate axes.\n",
        "\n",
        "\tLine equation passing through a given point in a given direction.\n",
        "\tRelative positions of lines in the plane.\n",
        "\tAngle between two lines.\n",
        "\n"
      ],
      "metadata": {
        "id": "SVa9rLOXgzJe"
      }
    },
    {
      "cell_type": "markdown",
      "source": [
        "general equasion of a line\n",
        "$Ax+By=C$\n",
        "\n",
        "slope-intercept form (m is slope, b is intercepting in y axis)\n",
        "$$y=mx+b$$\n",
        "The point-slope form of a line is $y - y_1 = m(x - x_1)$, where $(x_1, y_1)$ is a point on the line."
      ],
      "metadata": {
        "id": "KqMqaI7jTkUe"
      }
    },
    {
      "cell_type": "markdown",
      "source": [
        "calculating m(slope) from 2 points\n",
        "$$m=\\frac{y_2-y_1}{x_2-x_1}$$\n",
        "then if you want to find line equasion sub one of the poins in the general equasion and m"
      ],
      "metadata": {
        "id": "kbUYoE-STap3"
      }
    },
    {
      "cell_type": "markdown",
      "source": [
        "lines aere parallel if\n",
        "$$m_1=m_2$$\n",
        "=\n",
        "\n",
        "penpedicular\n",
        "$$m_1 \\times m_2 = -1$$\n",
        "+"
      ],
      "metadata": {
        "id": "Wlj3GhiDVGyF"
      }
    },
    {
      "cell_type": "markdown",
      "source": [
        "intersection pint of two lines is adding them and finding x and y"
      ],
      "metadata": {
        "id": "3ysXcTRrbKSX"
      }
    },
    {
      "cell_type": "markdown",
      "source": [
        "finding line eq from a vector v=(a,b) and a point\n",
        "\n",
        "$m = \\frac{b}{a}$\n",
        "then sub point"
      ],
      "metadata": {
        "id": "CWEod2uXiMmN"
      }
    },
    {
      "cell_type": "markdown",
      "source": [
        "#Exercises\n",
        "A.\n",
        "The line passes through points A(1,2) and B(3,4)\n",
        ". Find the equation of the line.\n",
        "$$m=\\frac{y_2-y_1}{x_2-x_1}=\\frac{3-4}{1-2}=\\frac{-1}{-1}=1$$\n",
        "$y=mx+b$\n",
        "\n",
        "$2=1\\times1+b$\n",
        "\n",
        "$b=1$\n",
        "\n",
        "$y=x+1$"
      ],
      "metadata": {
        "id": "ofN4F2B9Tyie"
      }
    },
    {
      "cell_type": "markdown",
      "source": [
        "B.\n",
        "The line passes through point A(1,2) and is parallel to the line y=2x+3. Find the equation of the line.\n",
        "\n",
        "$$m=2$$\n",
        "$$m_1=m_2$$\n",
        "$$m_2=2$$\n",
        "$$2=2\\times 1+b$$\n",
        "$$b=0$$\n",
        "$$y=2x$$\n"
      ],
      "metadata": {
        "id": "Qho3ZZFiVywq"
      }
    },
    {
      "cell_type": "markdown",
      "source": [
        "C.The line passes through point A(1,2) and is perpendicular to the line y=2x+3. Find the equation of the line.\n",
        "$$m=2$$\n",
        "\n",
        "$$m_1 \\times m_2 = -1$$\n",
        "\n",
        "$$2\\times m_2 = -1$$\n",
        "\n",
        "$$2=1\\times -\\frac{1}{2} + b$$\n",
        "\n",
        "$$b=2\\frac{1}{2}$$\n",
        "\n",
        "$$y=-\\frac{1}{2}+2\\frac{1}{2}$$"
      ],
      "metadata": {
        "id": "sPpRFFrGZbiM"
      }
    },
    {
      "cell_type": "markdown",
      "source": [
        "D.We have two lines y=2x+3 and y=3x+2. Find the intersection point of these lines and calculate the angle between them.\n",
        "\n",
        "$y=2x+3$\n",
        "\n",
        "$y=3x+2$\n",
        "$$2y=5x+5$$\n",
        "\n",
        "$$y=2,5x+2,5$$\n",
        "\n",
        "$$2,5x+2,5=2x+3$$\n",
        "\n",
        "$$0,5x=0,5$$\n",
        "\n",
        "$$x=1$$\n",
        "\n",
        "$$y=2\\times 1+3$$\n",
        "\n",
        "$$y=5$$\n",
        "\n",
        "$$(1,5)$$"
      ],
      "metadata": {
        "id": "6_CkAYCHbbYp"
      }
    },
    {
      "cell_type": "markdown",
      "source": [
        "E.\n",
        "Write the equation of the line passing through point A(1,2) and parallel to the vector v→=[2,3].\n"
      ],
      "metadata": {
        "id": "PnF9kJeWioRH"
      }
    }
  ]
}