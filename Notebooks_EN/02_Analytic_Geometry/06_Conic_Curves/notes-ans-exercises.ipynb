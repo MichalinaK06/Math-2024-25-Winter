{
  "nbformat": 4,
  "nbformat_minor": 0,
  "metadata": {
    "colab": {
      "provenance": []
    },
    "kernelspec": {
      "name": "python3",
      "display_name": "Python 3"
    },
    "language_info": {
      "name": "python"
    }
  },
  "cells": [
    {
      "cell_type": "markdown",
      "source": [
        "#notes"
      ],
      "metadata": {
        "id": "CmtETc-PQeXG"
      }
    },
    {
      "cell_type": "markdown",
      "source": [
        "✩Circle equasion of center C(a,b) and radius r\n",
        "$$(x-a)^2+(y-b)=r^2$$"
      ],
      "metadata": {
        "id": "jru-mBN5QcxJ"
      }
    },
    {
      "cell_type": "markdown",
      "source": [
        "✩Equasion of parabola with 2 points on Ox axis\n",
        "\n",
        "$$y=a(x-x_1)(x-x_2)$$"
      ],
      "metadata": {
        "id": "BmhIZo6n9UeM"
      }
    },
    {
      "cell_type": "markdown",
      "source": [
        "✩Standard form of eclipse\n",
        "$$\\frac{(x-h)^2}{a^2} + \\frac{(y-k)^2}{b^2} = 1$$\n",
        "where (h,k) is center"
      ],
      "metadata": {
        "id": "JjEivg1bUvFe"
      }
    },
    {
      "cell_type": "markdown",
      "source": [
        "✩Hyperbola equasions and distance between them\n",
        "\n",
        "-Horizontal\n",
        "$$\\frac{x^2}{a^2} - \\frac{y^2}{b^2} = 1$$\n",
        "distance is 2a\n",
        "\n",
        "-Vertical\n",
        "$$\\frac{y^2}{a^2} - \\frac{x^2}{b^2} = 1$$\n",
        "distance is 2b"
      ],
      "metadata": {
        "id": "YLY7k32cFVId"
      }
    },
    {
      "cell_type": "markdown",
      "source": [
        "#exercises"
      ],
      "metadata": {
        "id": "Iq9dbqasRAJ7"
      }
    },
    {
      "cell_type": "markdown",
      "source": [
        "A.Find the equation of a circle with center at point A(1,2) and radius r=3.\n",
        "$$(x-a)^2+(y-b)=r^2$$\n",
        "$$(x-1)^2+(y-2)^2=9$$\n",
        "\n",
        "https://www.geogebra.org/calculator/gzfpwqmk"
      ],
      "metadata": {
        "id": "3Kvk-Kh3RCrq"
      }
    },
    {
      "cell_type": "markdown",
      "source": [
        "B.Find the equation of a parabola intersecting the\n",
        "Ox axis at points x=2, x=4, and passing through point y(3)=1.\n",
        "\n",
        "y(3)=1 this means when x=3, y=1\n",
        "\n",
        "$$y=a(x-x_1)(x-x_2)$$\n",
        "$$y=a(x-2)(x-4)$$\n",
        "$$1=a(3-2)(3-4)$$\n",
        "$$1=-a$$\n",
        "$$-1=a$$\n",
        "$$y=-(x-2)(x-4)$$\n",
        "\n",
        "https://www.geogebra.org/calculator/vhruydrx"
      ],
      "metadata": {
        "id": "vDiDf-saRpVp"
      }
    },
    {
      "cell_type": "markdown",
      "source": [
        "C.Find the center of the ecllipse with the equation $x^2+4y^2−4x−16y+16=0$.\n",
        "\n",
        "standard form of eclipse\n",
        "$\\frac{(x-h)^2}{a^2} + \\frac{(y-k)^2}{b^2} = 1$ (h,k) is center\n",
        "\n",
        "$$x^2+4y^2−4x−16y+16=0$$\n",
        "$$x^2−4x+4y^2−16y+16=0$$\n",
        "$$(x^2−4x)+(4y^2−16y)+16=0$$\n",
        "$$(x^2−4x+4)+(4y^2−16y+4)+16=0+4+4$$\n",
        "$$(x−2)^2+(y−2)^2=-8$$\n",
        "\n",
        "$$\\frac{(x−2)^2}{-8}+\\frac{(y−2)^2}{-8}=1$$\n",
        "from equasion of eclipse we can see that center is $(2,2)$\n",
        "\n",
        "https://www.geogebra.org/calculator/yqgz2bes\n"
      ],
      "metadata": {
        "id": "e3dNX9yBTYn4"
      }
    },
    {
      "cell_type": "markdown",
      "source": [
        "D.Find the slope ( m>0 ) of the line y = m x − 5 that is tangent to the circle with the equation x^2 + y^2 = 1 .\n",
        "\n",
        "$$x^2+(mx-5)^2=1$$\n",
        "$$x^2+m^2x^2-10mx +25-1=0$$\n",
        "$$x^2(1+m^2)-10mx+24=0$$\n",
        "$$Δ=100m^2-4\\times((1+m^2)\\times24)=0$$\n",
        "$$100m^2-96m^2-96=0$$\n",
        "$$4m^2=96$$\n",
        "$$m^2=24$$\n",
        "$$m=\\sqrt{24}\\space or\\space m=-\\sqrt{24}$$\n",
        "\n",
        "$m>0$ so the anwser is $m=\\sqrt{24}=2\\sqrt6$\n",
        "\n",
        "https://www.geogebra.org/calculator/atarmpfj"
      ],
      "metadata": {
        "id": "rs3sGqvUZ7g3"
      }
    },
    {
      "cell_type": "markdown",
      "source": [
        "E. Find the intersection points of the hyperbola x 2 − y 2 = 1 with the ellipse's line x 2 + 4 y 2 = 6 .\n",
        "\n",
        "$$x^2-y^2=1$$\n",
        "$$x^2+4y^2=6$$\n",
        "substitude them\n",
        "$$x^2=y^2+1$$\n",
        "$$y^2+1+4y^2=6$$\n",
        "$$5y^2=5$$\n",
        "$$y^2=1$$\n",
        "$$y=1 \\space or \\space y=-1$$\n",
        "$$x^2+4\\times 1=6$$\n",
        "$$x^2=2$$\n",
        "$$x=\\sqrt2 \\space or \\space x=-\\sqrt2$$\n",
        "so there are 4 intersection points:\n",
        "$(\\sqrt2,1)(\\sqrt2,-1)(-\\sqrt2,1)(-\\sqrt2-1)$\n",
        "\n",
        "https://www.geogebra.org/calculator/qaj4ckwt"
      ],
      "metadata": {
        "id": "jTUjZCNDaDCx"
      }
    },
    {
      "cell_type": "markdown",
      "source": [
        "F. For the given hyperbola $x^2 − y^2 = 1$ , find the distance between its branches.\n",
        "\n",
        "general equasion  \n",
        "$\\frac{x^2}{a^2} - \\frac{y^2}{b^2} = 1$\n",
        "\n",
        "distance between branches is 2a\n",
        "\n",
        "$x^2 − y^2 = 1$\n",
        "\n",
        "a is 1\n",
        "\n",
        "$2a=2$\n",
        "\n",
        "https://www.geogebra.org/calculator/gy5xj9cr"
      ],
      "metadata": {
        "id": "wG7iFnq0aF-X"
      }
    }
  ]
}