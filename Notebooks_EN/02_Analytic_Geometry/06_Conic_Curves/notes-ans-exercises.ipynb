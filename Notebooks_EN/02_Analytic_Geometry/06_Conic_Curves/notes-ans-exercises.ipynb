{
  "nbformat": 4,
  "nbformat_minor": 0,
  "metadata": {
    "colab": {
      "provenance": []
    },
    "kernelspec": {
      "name": "python3",
      "display_name": "Python 3"
    },
    "language_info": {
      "name": "python"
    }
  },
  "cells": [
    {
      "cell_type": "markdown",
      "source": [
        "#notes"
      ],
      "metadata": {
        "id": "CmtETc-PQeXG"
      }
    },
    {
      "cell_type": "markdown",
      "source": [
        "✩circle equasion of center C(a,b) and radius r\n",
        "$$(x-a)^2+(y-b)=r^2$$"
      ],
      "metadata": {
        "id": "jru-mBN5QcxJ"
      }
    },
    {
      "cell_type": "markdown",
      "source": [
        "standard form of eclipse\n",
        "$$\\frac{(x-h)^2}{a^2} + \\frac{(y-k)^2}{b^2} = 1$$"
      ],
      "metadata": {
        "id": "JjEivg1bUvFe"
      }
    },
    {
      "cell_type": "markdown",
      "source": [
        "#exercises"
      ],
      "metadata": {
        "id": "Iq9dbqasRAJ7"
      }
    },
    {
      "cell_type": "markdown",
      "source": [
        "A.Find the equation of a circle with center at point A(1,2) and radius r=3.\n",
        "$$(x-1)^2+(y-2)^2=9$$"
      ],
      "metadata": {
        "id": "3Kvk-Kh3RCrq"
      }
    },
    {
      "cell_type": "markdown",
      "source": [
        "B.Find the equation of a parabola intersecting the\n",
        "Ox axis at points x=2, x=4, and passing through point y(3)=1.\n",
        "\n",
        "if x is 3 y=1\n",
        "$$y=a(x-2)(x-4)$$\n",
        "\n",
        "$$1=a(3-2)(3-4)$$\n",
        "$$a=-1$$\n",
        "\n",
        "$$y=-(x-2)(x-4)$$"
      ],
      "metadata": {
        "id": "vDiDf-saRpVp"
      }
    },
    {
      "cell_type": "markdown",
      "source": [
        "Find the center of the ellipse with the equation $x^2+4y^2−4x−16y+16=0$.\n",
        "\n",
        "$$(x^2-4x)+4(y^2-4y)+16=0$$\n",
        "\n",
        "$$(x^2-4x+4)+4(y^2-4y+4)+16-4-4=0$$\n",
        "\n",
        "$$(x-2)^2+(y-2)^2=4 /:4$$\n",
        "\n",
        "$$\\frac{(x - 2)^2}{4} + \\frac{(y - 2)^2}{4} = 1$$\n",
        "\n",
        "from general eclipse equasion we can see that center is (2,2)"
      ],
      "metadata": {
        "id": "e3dNX9yBTYn4"
      }
    },
    {
      "cell_type": "markdown",
      "source": [
        "Find the slope ( m>0 ) of the line y = m x − 5 that is tangent to the circle with the equation x 2 + y 2 = 1 .\n",
        "\n",
        "$$x^2+(mx-5)^2=1$$\n",
        "$$x^2+mx^2-10mx +24=0$$"
      ],
      "metadata": {
        "id": "rs3sGqvUZ7g3"
      }
    },
    {
      "cell_type": "markdown",
      "source": [
        " Find the intersection points of the hyperbola x 2 − y 2 = 1 with the ellipse's line x 2 + 4 y 2 = 6 ."
      ],
      "metadata": {
        "id": "jTUjZCNDaDCx"
      }
    },
    {
      "cell_type": "markdown",
      "source": [
        "For the given hyperbola x 2 − y 2 = 1 , find the distance between its branches."
      ],
      "metadata": {
        "id": "wG7iFnq0aF-X"
      }
    }
  ]
}