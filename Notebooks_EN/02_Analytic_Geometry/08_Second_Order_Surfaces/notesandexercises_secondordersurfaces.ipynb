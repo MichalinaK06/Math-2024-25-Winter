{
  "nbformat": 4,
  "nbformat_minor": 0,
  "metadata": {
    "colab": {
      "provenance": []
    },
    "kernelspec": {
      "name": "python3",
      "display_name": "Python 3"
    },
    "language_info": {
      "name": "python"
    }
  },
  "cells": [
    {
      "cell_type": "markdown",
      "source": [
        "#notes"
      ],
      "metadata": {
        "id": "3dfz_OVSKrvl"
      }
    },
    {
      "cell_type": "markdown",
      "source": [
        "equation of a phere with center P(a,b,c) and radius r\n",
        "$$(x-a)^2+(y-b)^2+(z-c)^2=r^2$$"
      ],
      "metadata": {
        "id": "WUEMTfUqKvIE"
      }
    },
    {
      "cell_type": "markdown",
      "source": [
        "sphere common points\n",
        "\n",
        "1.distance between centers\n",
        "$$d=\\sqrt{(a_2-a_1)^2+(b_2-b_1)^2+(c_2-c_1)^2}$$\n",
        "2.comparing d and r\n",
        "\n",
        "if $d<r_1+r_2$ and $d>|r_1-r_2|$ then speres intersect and they have common points\n",
        "\n",
        "if $d=|r_1-r_2|$ they have one common point\n",
        "\n",
        "if $d>r_1+r_2$ or $d<|r_1-r_2|$ they dont intersect"
      ],
      "metadata": {
        "id": "oI1uJKcNMRLA"
      }
    },
    {
      "cell_type": "markdown",
      "source": [
        "C.What curve in space is formed by the intersection of the sphere x2+y2+z2=1 with the sphere (x−1)2+y2+z2=1? Find the equation of this curve.\n",
        "\n",
        "D.Write the equation of the tangent plane to the paraboloid z=(x−1)2+y2+1 at point P=(1,0,1)."
      ],
      "metadata": {
        "id": "H_lx5FTRJ_0a"
      }
    },
    {
      "cell_type": "markdown",
      "source": [
        "A.Write the equation of a sphere with center at point P=(1,2,3) and radius r=3.\n",
        "$$(x-1)^2+(y-2)^2+(z-3)^2=9$$"
      ],
      "metadata": {
        "id": "eNdA46ylKcWH"
      }
    },
    {
      "cell_type": "markdown",
      "source": [
        "B.Do the spheres with equations x2+y2+z2=1 and x2+y2+z2=2 have any common points?\n",
        "\n",
        "for them to have common points $d<r_1+r_2$ and $d>|r_1-r_2|$\n",
        "\n",
        "both of their centers are (0,0,0) so d(distance) is 0\n",
        "\n",
        "so $0<1+\\sqrt2$ is true but $0>|1-\\sqrt2|$ is not, so they dont have common points"
      ],
      "metadata": {
        "id": "2JiNnbLyOQEg"
      }
    },
    {
      "cell_type": "markdown",
      "source": [
        "D.Write the equation of the tangent plane to the paraboloid $z=(x−1)^2+y^2+1$ at point P=(1,0,1).\n",
        "$$x^2-2x+1+y^2-z=-1$$\n",
        "$$1-2+1+0-1$$"
      ],
      "metadata": {
        "id": "VMP4j5zuG73_"
      }
    }
  ]
}