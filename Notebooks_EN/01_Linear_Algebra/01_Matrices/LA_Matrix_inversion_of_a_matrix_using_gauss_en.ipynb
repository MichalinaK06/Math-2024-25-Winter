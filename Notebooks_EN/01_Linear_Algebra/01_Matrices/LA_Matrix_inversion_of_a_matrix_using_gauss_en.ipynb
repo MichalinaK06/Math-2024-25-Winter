{
  "cells": [
    {
      "cell_type": "markdown",
      "metadata": {
        "id": "NnoUNVM3vgtz"
      },
      "source": [
        "# Matrix Inversion using Gauss elimination method"
      ]
    },
    {
      "cell_type": "code",
      "execution_count": 1,
      "metadata": {
        "id": "5jNQ21wUvgt2"
      },
      "outputs": [],
      "source": [
        "from sympy import Matrix, Rational, latex\n",
        "from IPython.display import display, Markdown, Math, HTML\n",
        "\n",
        "class InvertibleMatrix:\n",
        "    def __init__(self, matrix):\n",
        "        \"\"\"\n",
        "        Initializes a matrix to be inverted using the Gauss-Jordan method.\n",
        "\n",
        "        Parameters:\n",
        "        - matrix: The square matrix to be inverted.\n",
        "        \"\"\"\n",
        "        # Convert all entries to Rational numbers\n",
        "        self.matrix = Matrix(matrix).applyfunc(Rational)\n",
        "        self.operations = []\n",
        "\n",
        "        # Check if the matrix is square\n",
        "        if self.matrix.rows != self.matrix.cols:\n",
        "            raise ValueError(\"The matrix must be square.\")\n",
        "\n",
        "        # Create the augmented matrix with the identity matrix (with Rational entries)\n",
        "        identity = Matrix.eye(self.matrix.rows).applyfunc(Rational)\n",
        "        self.aug_matrix = self.matrix.row_join(identity)\n",
        "\n",
        "        display(Markdown(\"**Initial Matrix (Starting matrix):**\"))\n",
        "        self.display_matrix()\n",
        "\n",
        "    def __repr__(self):\n",
        "        return repr(self.aug_matrix)\n",
        "\n",
        "    def __str__(self):\n",
        "        return str(self.aug_matrix)\n",
        "\n",
        "    def _repr_latex_(self):\n",
        "        return self.aug_matrix._repr_latex_()\n",
        "\n",
        "    def _validate_row_number(self, row):\n",
        "        if not isinstance(row, int):\n",
        "            raise TypeError(\"Row number must be an integer.\")\n",
        "        if row < 1 or row > self.aug_matrix.rows:\n",
        "            raise IndexError(f\"Row number must be in the range from 1 to {self.aug_matrix.rows}.\")\n",
        "        return row - 1\n",
        "\n",
        "    def add_row(self, target_row, source_row, coefficient):\n",
        "        target_idx = self._validate_row_number(target_row)\n",
        "        source_idx = self._validate_row_number(source_row)\n",
        "        coefficient = Rational(coefficient)\n",
        "\n",
        "        self.aug_matrix.row_op(target_idx, lambda v, j: v + coefficient * self.aug_matrix[source_idx, j])\n",
        "\n",
        "        operation_str = f\"r{target_row} = r{target_row} + {coefficient}*r{source_row}\"\n",
        "        self.operations.append(operation_str)\n",
        "        display(Markdown(f\"**Operation:** {operation_str}\"))\n",
        "        self.display_matrix()\n",
        "\n",
        "    def multiply_row(self, row, coefficient):\n",
        "        row_idx = self._validate_row_number(row)\n",
        "        coefficient = Rational(coefficient)\n",
        "\n",
        "        self.aug_matrix.row_op(row_idx, lambda v, _: coefficient * v)\n",
        "\n",
        "        operation_str = f\"r{row} = {coefficient}*r{row}\"\n",
        "        self.operations.append(operation_str)\n",
        "        display(Markdown(f\"**Operation:** {operation_str}\"))\n",
        "        self.display_matrix()\n",
        "\n",
        "    def swap_rows(self, row1, row2):\n",
        "        row1_idx = self._validate_row_number(row1)\n",
        "        row2_idx = self._validate_row_number(row2)\n",
        "\n",
        "        self.aug_matrix.row_swap(row1_idx, row2_idx)\n",
        "\n",
        "        operation_str = f\"Swap r{row1} <-> r{row2}\"\n",
        "        self.operations.append(operation_str)\n",
        "        display(Markdown(f\"**Operation:** {operation_str}\"))\n",
        "        self.display_matrix()\n",
        "\n",
        "    def display_matrix(self):\n",
        "        \"\"\"Displays the left and right matrix side by side in LaTeX format.\"\"\"\n",
        "        left_matrix = self.aug_matrix[:, :self.matrix.cols]\n",
        "        right_matrix = self.aug_matrix[:, self.matrix.cols:]\n",
        "\n",
        "        # Generate LaTeX code for both matrices\n",
        "        left_latex = latex(left_matrix)\n",
        "        right_latex = latex(right_matrix)\n",
        "\n",
        "        # Combine both matrices into a single display output\n",
        "        combined_latex = r\"\"\"\n",
        "        %s\n",
        "        \\quad\n",
        "        %s\n",
        "        \"\"\" % (left_latex, right_latex)\n",
        "\n",
        "        display(Math(combined_latex))\n",
        "\n",
        "    def print_operations(self):\n",
        "        display(Markdown(\"**Performed Operations:**\"))\n",
        "        for op in self.operations:\n",
        "            print(op)\n",
        "\n",
        "    def get_inverse(self):\n",
        "        \"\"\"Returns the inverse of the matrix after performing Gauss-Jordan elimination.\"\"\"\n",
        "        # Check if the left part of the augmented matrix is the identity matrix\n",
        "        left_matrix = self.aug_matrix[:, :self.matrix.cols]\n",
        "        if not left_matrix == Matrix.eye(self.matrix.rows):\n",
        "            raise ValueError(\"The matrix has not been reduced to the identity matrix. Continue the operations.\")\n",
        "        # Return the right part of the augmented matrix as the inverse\n",
        "        inverse_matrix = self.aug_matrix[:, self.matrix.cols:]\n",
        "        display(Markdown(\"**Inverse Matrix:**\"))\n",
        "        display(Math(latex(inverse_matrix)))\n",
        "        return inverse_matrix"
      ]
    },
    {
      "cell_type": "markdown",
      "metadata": {
        "id": "Ardu9pDFvgt4"
      },
      "source": [
        "**Example 1:**"
      ]
    },
    {
      "cell_type": "code",
      "execution_count": 3,
      "metadata": {
        "id": "2rbavaECvgt5",
        "outputId": "e353a338-e8ef-4fd3-b6f7-cc28189bfe5a",
        "colab": {
          "base_uri": "https://localhost:8080/",
          "height": 87
        }
      },
      "outputs": [
        {
          "output_type": "display_data",
          "data": {
            "text/plain": [
              "<IPython.core.display.Markdown object>"
            ],
            "text/markdown": "**Initial Matrix (Starting matrix):**"
          },
          "metadata": {}
        },
        {
          "output_type": "display_data",
          "data": {
            "text/plain": [
              "<IPython.core.display.Math object>"
            ],
            "text/latex": "$\\displaystyle \n        \\left[\\begin{matrix}2 & 1\\\\5 & 3\\end{matrix}\\right] \n        \\quad\n        \\left[\\begin{matrix}1 & 0\\\\0 & 1\\end{matrix}\\right]\n        $"
          },
          "metadata": {}
        }
      ],
      "source": [
        "# Create an instance of the class with a matrix to be inverted\n",
        "initial_matrix = [[2, 1], [5, 3]] # 2x2 matrix\n",
        "m = InvertibleMatrix(initial_matrix) # Create an instance of the class"
      ]
    },
    {
      "cell_type": "code",
      "execution_count": 4,
      "metadata": {
        "id": "0dluba16vgt6",
        "outputId": "34665210-b238-480f-d78b-9dcc4a47e7e2",
        "colab": {
          "base_uri": "https://localhost:8080/",
          "height": 75
        }
      },
      "outputs": [
        {
          "output_type": "stream",
          "name": "stdout",
          "text": [
            "The inverse matrix is:\n"
          ]
        },
        {
          "output_type": "execute_result",
          "data": {
            "text/plain": [
              "Matrix([\n",
              "[ 3, -1],\n",
              "[-5,  2]])"
            ],
            "text/latex": "$\\displaystyle \\left[\\begin{matrix}3 & -1\\\\-5 & 2\\end{matrix}\\right]$"
          },
          "metadata": {},
          "execution_count": 4
        }
      ],
      "source": [
        "import sympy as sp # import the sympy library\n",
        "a = sp.Matrix(initial_matrix) # create the initial matrix\n",
        "print(\"The inverse matrix is:\")\n",
        "a.inv() # calculate the inverse matrix"
      ]
    },
    {
      "cell_type": "code",
      "execution_count": 5,
      "metadata": {
        "id": "zE3hy7Pivgt6",
        "outputId": "44d2a916-9351-4eb9-b3b7-39593408c7ba",
        "colab": {
          "base_uri": "https://localhost:8080/",
          "height": 87
        }
      },
      "outputs": [
        {
          "output_type": "display_data",
          "data": {
            "text/plain": [
              "<IPython.core.display.Markdown object>"
            ],
            "text/markdown": "**Operation:** r2 = r2 + -5/2*r1"
          },
          "metadata": {}
        },
        {
          "output_type": "display_data",
          "data": {
            "text/plain": [
              "<IPython.core.display.Math object>"
            ],
            "text/latex": "$\\displaystyle \n        \\left[\\begin{matrix}2 & 1\\\\0 & \\frac{1}{2}\\end{matrix}\\right] \n        \\quad\n        \\left[\\begin{matrix}1 & 0\\\\- \\frac{5}{2} & 1\\end{matrix}\\right]\n        $"
          },
          "metadata": {}
        }
      ],
      "source": [
        "# Add -5/2 times \"row 1\" to \"row 2\"\n",
        "m.add_row(2, 1, -5/2)"
      ]
    },
    {
      "cell_type": "code",
      "execution_count": 6,
      "metadata": {
        "id": "8TZHuVoFvgt7",
        "outputId": "92fa231f-6866-480c-fac4-6981440a5896",
        "colab": {
          "base_uri": "https://localhost:8080/",
          "height": 87
        }
      },
      "outputs": [
        {
          "output_type": "display_data",
          "data": {
            "text/plain": [
              "<IPython.core.display.Markdown object>"
            ],
            "text/markdown": "**Operation:** r1 = 1/2*r1"
          },
          "metadata": {}
        },
        {
          "output_type": "display_data",
          "data": {
            "text/plain": [
              "<IPython.core.display.Math object>"
            ],
            "text/latex": "$\\displaystyle \n        \\left[\\begin{matrix}1 & \\frac{1}{2}\\\\0 & \\frac{1}{2}\\end{matrix}\\right] \n        \\quad\n        \\left[\\begin{matrix}\\frac{1}{2} & 0\\\\- \\frac{5}{2} & 1\\end{matrix}\\right]\n        $"
          },
          "metadata": {}
        }
      ],
      "source": [
        "# Multiply \"row 1\" by 1/2\n",
        "m.multiply_row(1, 1/2)"
      ]
    },
    {
      "cell_type": "code",
      "execution_count": 7,
      "metadata": {
        "id": "yuOZI0Ymvgt7",
        "outputId": "d9c246c0-4b07-4545-eee9-049201e852db",
        "colab": {
          "base_uri": "https://localhost:8080/",
          "height": 87
        }
      },
      "outputs": [
        {
          "output_type": "display_data",
          "data": {
            "text/plain": [
              "<IPython.core.display.Markdown object>"
            ],
            "text/markdown": "**Operation:** r1 = r1 + -1*r2"
          },
          "metadata": {}
        },
        {
          "output_type": "display_data",
          "data": {
            "text/plain": [
              "<IPython.core.display.Math object>"
            ],
            "text/latex": "$\\displaystyle \n        \\left[\\begin{matrix}1 & 0\\\\0 & \\frac{1}{2}\\end{matrix}\\right] \n        \\quad\n        \\left[\\begin{matrix}3 & -1\\\\- \\frac{5}{2} & 1\\end{matrix}\\right]\n        $"
          },
          "metadata": {}
        }
      ],
      "source": [
        "# Add -1 times \"row 2\" to \"row 1\"\n",
        "m.add_row(1, 2, -1)"
      ]
    },
    {
      "cell_type": "code",
      "execution_count": 8,
      "metadata": {
        "id": "ocYNATqZvgt8",
        "outputId": "11e59172-35a6-495b-8a0e-50647904ec8d",
        "colab": {
          "base_uri": "https://localhost:8080/",
          "height": 87
        }
      },
      "outputs": [
        {
          "output_type": "display_data",
          "data": {
            "text/plain": [
              "<IPython.core.display.Markdown object>"
            ],
            "text/markdown": "**Operation:** r2 = 2*r2"
          },
          "metadata": {}
        },
        {
          "output_type": "display_data",
          "data": {
            "text/plain": [
              "<IPython.core.display.Math object>"
            ],
            "text/latex": "$\\displaystyle \n        \\left[\\begin{matrix}1 & 0\\\\0 & 1\\end{matrix}\\right] \n        \\quad\n        \\left[\\begin{matrix}3 & -1\\\\-5 & 2\\end{matrix}\\right]\n        $"
          },
          "metadata": {}
        }
      ],
      "source": [
        "# Multiply \"row 2\" by 2\n",
        "m.multiply_row(2, 2)"
      ]
    },
    {
      "cell_type": "markdown",
      "metadata": {
        "id": "LBlsrgrlvgt8"
      },
      "source": [
        "The matrix has been correctly computed!\n",
        "\n",
        "**Example 2**"
      ]
    },
    {
      "cell_type": "code",
      "execution_count": 25,
      "metadata": {
        "id": "QRAi0_nHvgt8",
        "outputId": "522b9e13-242e-4a64-da97-cf6ee7af5d14",
        "colab": {
          "base_uri": "https://localhost:8080/",
          "height": 107
        }
      },
      "outputs": [
        {
          "output_type": "display_data",
          "data": {
            "text/plain": [
              "<IPython.core.display.Markdown object>"
            ],
            "text/markdown": "**Initial Matrix (Starting matrix):**"
          },
          "metadata": {}
        },
        {
          "output_type": "display_data",
          "data": {
            "text/plain": [
              "<IPython.core.display.Math object>"
            ],
            "text/latex": "$\\displaystyle \n        \\left[\\begin{matrix}2 & 1 & 2\\\\5 & 3 & 1\\\\1 & 1 & 5\\end{matrix}\\right] \n        \\quad\n        \\left[\\begin{matrix}1 & 0 & 0\\\\0 & 1 & 0\\\\0 & 0 & 1\\end{matrix}\\right]\n        $"
          },
          "metadata": {}
        }
      ],
      "source": [
        "initial_matrix = [[2, 1, 2], [5, 3, 1], [1, 1, 5]] # 3x3 matrix\n",
        "m = InvertibleMatrix(initial_matrix) # Create an instance of the class\n",
        "sympy_m = sp.Matrix(initial_matrix) # create the initial matrix"
      ]
    },
    {
      "cell_type": "code",
      "execution_count": null,
      "metadata": {
        "id": "PX4C2hcDvgt9",
        "outputId": "c9b0007d-5011-4dbd-a33e-0b8107f99a13"
      },
      "outputs": [
        {
          "data": {
            "text/latex": [
              "$\\displaystyle \\left[\\begin{matrix}\\frac{7}{4} & - \\frac{3}{8} & - \\frac{5}{8}\\\\-3 & 1 & 1\\\\\\frac{1}{4} & - \\frac{1}{8} & \\frac{1}{8}\\end{matrix}\\right]$"
            ],
            "text/plain": [
              "Matrix([\n",
              "[7/4, -3/8, -5/8],\n",
              "[ -3,    1,    1],\n",
              "[1/4, -1/8,  1/8]])"
            ]
          },
          "execution_count": 9,
          "metadata": {},
          "output_type": "execute_result"
        }
      ],
      "source": [
        "inverse = sympy_m.inv() # calculate the inverse matrix\n",
        "inverse"
      ]
    },
    {
      "cell_type": "code",
      "execution_count": 26,
      "metadata": {
        "id": "skFCedfbvgt9",
        "outputId": "7ea93960-01ec-4200-9abf-bdf49e29ccec",
        "colab": {
          "base_uri": "https://localhost:8080/",
          "height": 107
        }
      },
      "outputs": [
        {
          "output_type": "display_data",
          "data": {
            "text/plain": [
              "<IPython.core.display.Markdown object>"
            ],
            "text/markdown": "**Operation:** r2 = r2 + -5*r3"
          },
          "metadata": {}
        },
        {
          "output_type": "display_data",
          "data": {
            "text/plain": [
              "<IPython.core.display.Math object>"
            ],
            "text/latex": "$\\displaystyle \n        \\left[\\begin{matrix}2 & 1 & 2\\\\0 & -2 & -24\\\\1 & 1 & 5\\end{matrix}\\right] \n        \\quad\n        \\left[\\begin{matrix}1 & 0 & 0\\\\0 & 1 & -5\\\\0 & 0 & 1\\end{matrix}\\right]\n        $"
          },
          "metadata": {}
        }
      ],
      "source": [
        "m.add_row(2, 3, -5)"
      ]
    },
    {
      "cell_type": "code",
      "execution_count": 27,
      "metadata": {
        "id": "k_-I0nebvgt9",
        "outputId": "c628db99-e4a6-4cee-a350-6c4d2adb2482",
        "colab": {
          "base_uri": "https://localhost:8080/",
          "height": 107
        }
      },
      "outputs": [
        {
          "output_type": "display_data",
          "data": {
            "text/plain": [
              "<IPython.core.display.Markdown object>"
            ],
            "text/markdown": "**Operation:** r3 = r3 + -1/2*r1"
          },
          "metadata": {}
        },
        {
          "output_type": "display_data",
          "data": {
            "text/plain": [
              "<IPython.core.display.Math object>"
            ],
            "text/latex": "$\\displaystyle \n        \\left[\\begin{matrix}2 & 1 & 2\\\\0 & -2 & -24\\\\0 & \\frac{1}{2} & 4\\end{matrix}\\right] \n        \\quad\n        \\left[\\begin{matrix}1 & 0 & 0\\\\0 & 1 & -5\\\\- \\frac{1}{2} & 0 & 1\\end{matrix}\\right]\n        $"
          },
          "metadata": {}
        }
      ],
      "source": [
        "m.add_row(3, 1, -1/2)"
      ]
    },
    {
      "cell_type": "code",
      "execution_count": null,
      "metadata": {
        "id": "Uh2uSXGhvgt9",
        "outputId": "4fdd208a-030a-4ccf-c472-d77b7f9bd0dc"
      },
      "outputs": [
        {
          "data": {
            "text/markdown": [
              "**Operation:** r3 = 4*r3"
            ],
            "text/plain": [
              "<IPython.core.display.Markdown object>"
            ]
          },
          "metadata": {},
          "output_type": "display_data"
        },
        {
          "data": {
            "text/latex": [
              "$\\displaystyle \n",
              "        \\left[\\begin{matrix}2 & 1 & 2\\\\0 & -2 & -24\\\\0 & 2 & 16\\end{matrix}\\right] \n",
              "        \\quad\n",
              "        \\left[\\begin{matrix}1 & 0 & 0\\\\0 & 1 & -5\\\\-2 & 0 & 4\\end{matrix}\\right]\n",
              "        $"
            ],
            "text/plain": [
              "<IPython.core.display.Math object>"
            ]
          },
          "metadata": {},
          "output_type": "display_data"
        }
      ],
      "source": [
        "m.multiply_row(3, 4)"
      ]
    },
    {
      "cell_type": "code",
      "execution_count": null,
      "metadata": {
        "id": "PYPKlLotvgt-",
        "outputId": "c87bd03a-ec05-42d5-93f4-3b1c77bd807d"
      },
      "outputs": [
        {
          "data": {
            "text/markdown": [
              "**Operation:** r3 = r3 + 1*r2"
            ],
            "text/plain": [
              "<IPython.core.display.Markdown object>"
            ]
          },
          "metadata": {},
          "output_type": "display_data"
        },
        {
          "data": {
            "text/latex": [
              "$\\displaystyle \n",
              "        \\left[\\begin{matrix}2 & 1 & 2\\\\0 & -2 & -24\\\\0 & 0 & -8\\end{matrix}\\right] \n",
              "        \\quad\n",
              "        \\left[\\begin{matrix}1 & 0 & 0\\\\0 & 1 & -5\\\\-2 & 1 & -1\\end{matrix}\\right]\n",
              "        $"
            ],
            "text/plain": [
              "<IPython.core.display.Math object>"
            ]
          },
          "metadata": {},
          "output_type": "display_data"
        }
      ],
      "source": [
        "m.add_row(3, 2, 1)"
      ]
    },
    {
      "cell_type": "code",
      "execution_count": null,
      "metadata": {
        "id": "_TLFl_Ievgt-",
        "outputId": "98ba2a56-52cb-43ae-966c-a7008f89799e"
      },
      "outputs": [
        {
          "data": {
            "text/markdown": [
              "**Operation:** r3 = -1/8*r3"
            ],
            "text/plain": [
              "<IPython.core.display.Markdown object>"
            ]
          },
          "metadata": {},
          "output_type": "display_data"
        },
        {
          "data": {
            "text/latex": [
              "$\\displaystyle \n",
              "        \\left[\\begin{matrix}2 & 1 & 2\\\\0 & -2 & -24\\\\0 & 0 & 1\\end{matrix}\\right] \n",
              "        \\quad\n",
              "        \\left[\\begin{matrix}1 & 0 & 0\\\\0 & 1 & -5\\\\\\frac{1}{4} & - \\frac{1}{8} & \\frac{1}{8}\\end{matrix}\\right]\n",
              "        $"
            ],
            "text/plain": [
              "<IPython.core.display.Math object>"
            ]
          },
          "metadata": {},
          "output_type": "display_data"
        }
      ],
      "source": [
        "m.multiply_row(3, -1/8)"
      ]
    },
    {
      "cell_type": "code",
      "execution_count": null,
      "metadata": {
        "id": "WviPh0nAvgt-",
        "outputId": "ee4c005c-b1e2-4fc3-d16a-5827bc3483af"
      },
      "outputs": [
        {
          "data": {
            "text/markdown": [
              "**Operation:** r2 = -1/2*r2"
            ],
            "text/plain": [
              "<IPython.core.display.Markdown object>"
            ]
          },
          "metadata": {},
          "output_type": "display_data"
        },
        {
          "data": {
            "text/latex": [
              "$\\displaystyle \n",
              "        \\left[\\begin{matrix}2 & 1 & 2\\\\0 & 1 & 12\\\\0 & 0 & 1\\end{matrix}\\right] \n",
              "        \\quad\n",
              "        \\left[\\begin{matrix}1 & 0 & 0\\\\0 & - \\frac{1}{2} & \\frac{5}{2}\\\\\\frac{1}{4} & - \\frac{1}{8} & \\frac{1}{8}\\end{matrix}\\right]\n",
              "        $"
            ],
            "text/plain": [
              "<IPython.core.display.Math object>"
            ]
          },
          "metadata": {},
          "output_type": "display_data"
        }
      ],
      "source": [
        "m.multiply_row(2, -1/2)"
      ]
    },
    {
      "cell_type": "code",
      "execution_count": null,
      "metadata": {
        "id": "AshvHP42vgt-",
        "outputId": "f6c7baf6-c25d-45b8-b279-bb3be031298d"
      },
      "outputs": [
        {
          "data": {
            "text/markdown": [
              "**Operation:** r2 = r2 + -12*r3"
            ],
            "text/plain": [
              "<IPython.core.display.Markdown object>"
            ]
          },
          "metadata": {},
          "output_type": "display_data"
        },
        {
          "data": {
            "text/latex": [
              "$\\displaystyle \n",
              "        \\left[\\begin{matrix}2 & 1 & 2\\\\0 & 1 & 0\\\\0 & 0 & 1\\end{matrix}\\right] \n",
              "        \\quad\n",
              "        \\left[\\begin{matrix}1 & 0 & 0\\\\-3 & 1 & 1\\\\\\frac{1}{4} & - \\frac{1}{8} & \\frac{1}{8}\\end{matrix}\\right]\n",
              "        $"
            ],
            "text/plain": [
              "<IPython.core.display.Math object>"
            ]
          },
          "metadata": {},
          "output_type": "display_data"
        }
      ],
      "source": [
        "m.add_row(2, 3, -12)"
      ]
    },
    {
      "cell_type": "code",
      "execution_count": null,
      "metadata": {
        "id": "mTFtLxo9vgt-",
        "outputId": "387c4c70-9073-4e60-e264-c3e058cfcadf"
      },
      "outputs": [
        {
          "data": {
            "text/markdown": [
              "**Operation:** r1 = r1 + -2*r3"
            ],
            "text/plain": [
              "<IPython.core.display.Markdown object>"
            ]
          },
          "metadata": {},
          "output_type": "display_data"
        },
        {
          "data": {
            "text/latex": [
              "$\\displaystyle \n",
              "        \\left[\\begin{matrix}2 & 1 & 0\\\\0 & 1 & 0\\\\0 & 0 & 1\\end{matrix}\\right] \n",
              "        \\quad\n",
              "        \\left[\\begin{matrix}\\frac{1}{2} & \\frac{1}{4} & - \\frac{1}{4}\\\\-3 & 1 & 1\\\\\\frac{1}{4} & - \\frac{1}{8} & \\frac{1}{8}\\end{matrix}\\right]\n",
              "        $"
            ],
            "text/plain": [
              "<IPython.core.display.Math object>"
            ]
          },
          "metadata": {},
          "output_type": "display_data"
        }
      ],
      "source": [
        "m.add_row(1, 3, -2)"
      ]
    },
    {
      "cell_type": "code",
      "execution_count": null,
      "metadata": {
        "id": "5f6FCRIHvgt-",
        "outputId": "cc16bbce-3e7b-4a4d-fefd-c2b3e09433a0"
      },
      "outputs": [
        {
          "data": {
            "text/markdown": [
              "**Operation:** r1 = r1 + -1*r2"
            ],
            "text/plain": [
              "<IPython.core.display.Markdown object>"
            ]
          },
          "metadata": {},
          "output_type": "display_data"
        },
        {
          "data": {
            "text/latex": [
              "$\\displaystyle \n",
              "        \\left[\\begin{matrix}2 & 0 & 0\\\\0 & 1 & 0\\\\0 & 0 & 1\\end{matrix}\\right] \n",
              "        \\quad\n",
              "        \\left[\\begin{matrix}\\frac{7}{2} & - \\frac{3}{4} & - \\frac{5}{4}\\\\-3 & 1 & 1\\\\\\frac{1}{4} & - \\frac{1}{8} & \\frac{1}{8}\\end{matrix}\\right]\n",
              "        $"
            ],
            "text/plain": [
              "<IPython.core.display.Math object>"
            ]
          },
          "metadata": {},
          "output_type": "display_data"
        }
      ],
      "source": [
        "m.add_row(1, 2, -1)"
      ]
    },
    {
      "cell_type": "code",
      "execution_count": null,
      "metadata": {
        "id": "PSBctUCSvgt-",
        "outputId": "0a161a68-7f73-4b4c-de46-e5ea6a718075"
      },
      "outputs": [
        {
          "data": {
            "text/markdown": [
              "**Operation:** r1 = 1/2*r1"
            ],
            "text/plain": [
              "<IPython.core.display.Markdown object>"
            ]
          },
          "metadata": {},
          "output_type": "display_data"
        },
        {
          "data": {
            "text/latex": [
              "$\\displaystyle \n",
              "        \\left[\\begin{matrix}1 & 0 & 0\\\\0 & 1 & 0\\\\0 & 0 & 1\\end{matrix}\\right] \n",
              "        \\quad\n",
              "        \\left[\\begin{matrix}\\frac{7}{4} & - \\frac{3}{8} & - \\frac{5}{8}\\\\-3 & 1 & 1\\\\\\frac{1}{4} & - \\frac{1}{8} & \\frac{1}{8}\\end{matrix}\\right]\n",
              "        $"
            ],
            "text/plain": [
              "<IPython.core.display.Math object>"
            ]
          },
          "metadata": {},
          "output_type": "display_data"
        }
      ],
      "source": [
        "m.multiply_row(1, 1/2)"
      ]
    },
    {
      "cell_type": "markdown",
      "metadata": {
        "id": "eIdc5LWpvgt-"
      },
      "source": [
        "---\n",
        "\n",
        "## Exercises for Students\n",
        "\n",
        "Find the inverse matrices using the Gauss method:\n",
        "\n",
        "$$\n",
        "A=\n",
        "\\begin{bmatrix}\n",
        "1 & 2\\\\\n",
        "3 & 4\n",
        "\\end{bmatrix}\n",
        ", \\qquad\n",
        "B=\n",
        "\\begin{bmatrix}\n",
        "1 & 2 & 3 \\\\\n",
        "4 & 5 & 1 \\\\\n",
        "2 & 3 & 2\n",
        "\\end{bmatrix}\n",
        ",\\qquad\n",
        "C=\n",
        "\\begin{bmatrix}\n",
        "0 & 0 & 1\\\\\n",
        "0 & 1 & 0\\\\\n",
        "1 & 0 & 0\n",
        "\\end{bmatrix}\n",
        "$$"
      ]
    },
    {
      "cell_type": "markdown",
      "source": [
        "A."
      ],
      "metadata": {
        "id": "NyE0ufemx8FW"
      }
    },
    {
      "cell_type": "code",
      "source": [
        "initial_matrix = [[1, 2], [3, 4]]\n",
        "n = InvertibleMatrix(initial_matrix)"
      ],
      "metadata": {
        "id": "sWvp3YQCvsCx",
        "outputId": "61d0fd42-4782-47ca-c555-75870ab82a2a",
        "colab": {
          "base_uri": "https://localhost:8080/",
          "height": 87
        }
      },
      "execution_count": 18,
      "outputs": [
        {
          "output_type": "display_data",
          "data": {
            "text/plain": [
              "<IPython.core.display.Markdown object>"
            ],
            "text/markdown": "**Initial Matrix (Starting matrix):**"
          },
          "metadata": {}
        },
        {
          "output_type": "display_data",
          "data": {
            "text/plain": [
              "<IPython.core.display.Math object>"
            ],
            "text/latex": "$\\displaystyle \n        \\left[\\begin{matrix}1 & 2\\\\3 & 4\\end{matrix}\\right] \n        \\quad\n        \\left[\\begin{matrix}1 & 0\\\\0 & 1\\end{matrix}\\right]\n        $"
          },
          "metadata": {}
        }
      ]
    },
    {
      "cell_type": "code",
      "source": [
        "n.add_row(2,1,-3)"
      ],
      "metadata": {
        "id": "zBFQS3dUv-U1",
        "outputId": "01e5d2c3-57c5-485c-cf02-1e1ea99af3bd",
        "colab": {
          "base_uri": "https://localhost:8080/",
          "height": 87
        }
      },
      "execution_count": 19,
      "outputs": [
        {
          "output_type": "display_data",
          "data": {
            "text/plain": [
              "<IPython.core.display.Markdown object>"
            ],
            "text/markdown": "**Operation:** r2 = r2 + -3*r1"
          },
          "metadata": {}
        },
        {
          "output_type": "display_data",
          "data": {
            "text/plain": [
              "<IPython.core.display.Math object>"
            ],
            "text/latex": "$\\displaystyle \n        \\left[\\begin{matrix}1 & 2\\\\0 & -2\\end{matrix}\\right] \n        \\quad\n        \\left[\\begin{matrix}1 & 0\\\\-3 & 1\\end{matrix}\\right]\n        $"
          },
          "metadata": {}
        }
      ]
    },
    {
      "cell_type": "code",
      "source": [
        "n.add_row(1,2,1)"
      ],
      "metadata": {
        "id": "XgGXPuxNxq80",
        "outputId": "ea562ff5-c384-4afa-de49-d40b1aa2c6d7",
        "colab": {
          "base_uri": "https://localhost:8080/",
          "height": 87
        }
      },
      "execution_count": 20,
      "outputs": [
        {
          "output_type": "display_data",
          "data": {
            "text/plain": [
              "<IPython.core.display.Markdown object>"
            ],
            "text/markdown": "**Operation:** r1 = r1 + 1*r2"
          },
          "metadata": {}
        },
        {
          "output_type": "display_data",
          "data": {
            "text/plain": [
              "<IPython.core.display.Math object>"
            ],
            "text/latex": "$\\displaystyle \n        \\left[\\begin{matrix}1 & 0\\\\0 & -2\\end{matrix}\\right] \n        \\quad\n        \\left[\\begin{matrix}-2 & 1\\\\-3 & 1\\end{matrix}\\right]\n        $"
          },
          "metadata": {}
        }
      ]
    },
    {
      "cell_type": "code",
      "source": [
        "n.multiply_row(2,-1/2)"
      ],
      "metadata": {
        "id": "sjeke05Nxwg4",
        "outputId": "6bd83af5-dd4f-48d4-ece2-a71cde5c05ea",
        "colab": {
          "base_uri": "https://localhost:8080/",
          "height": 87
        }
      },
      "execution_count": 21,
      "outputs": [
        {
          "output_type": "display_data",
          "data": {
            "text/plain": [
              "<IPython.core.display.Markdown object>"
            ],
            "text/markdown": "**Operation:** r2 = -1/2*r2"
          },
          "metadata": {}
        },
        {
          "output_type": "display_data",
          "data": {
            "text/plain": [
              "<IPython.core.display.Math object>"
            ],
            "text/latex": "$\\displaystyle \n        \\left[\\begin{matrix}1 & 0\\\\0 & 1\\end{matrix}\\right] \n        \\quad\n        \\left[\\begin{matrix}-2 & 1\\\\\\frac{3}{2} & - \\frac{1}{2}\\end{matrix}\\right]\n        $"
          },
          "metadata": {}
        }
      ]
    },
    {
      "cell_type": "markdown",
      "source": [
        "B."
      ],
      "metadata": {
        "id": "l3d9zlZgx-jH"
      }
    },
    {
      "cell_type": "code",
      "source": [
        "initial_matrix = [[1,2,3], [4,5,1],[2,3,2]]\n",
        "m = InvertibleMatrix(initial_matrix)"
      ],
      "metadata": {
        "id": "JWEuJ6Aex__r",
        "outputId": "9bef3d6c-e676-4db3-9233-22db7c385315",
        "colab": {
          "base_uri": "https://localhost:8080/",
          "height": 107
        }
      },
      "execution_count": 29,
      "outputs": [
        {
          "output_type": "display_data",
          "data": {
            "text/plain": [
              "<IPython.core.display.Markdown object>"
            ],
            "text/markdown": "**Initial Matrix (Starting matrix):**"
          },
          "metadata": {}
        },
        {
          "output_type": "display_data",
          "data": {
            "text/plain": [
              "<IPython.core.display.Math object>"
            ],
            "text/latex": "$\\displaystyle \n        \\left[\\begin{matrix}1 & 2 & 3\\\\4 & 5 & 1\\\\2 & 3 & 2\\end{matrix}\\right] \n        \\quad\n        \\left[\\begin{matrix}1 & 0 & 0\\\\0 & 1 & 0\\\\0 & 0 & 1\\end{matrix}\\right]\n        $"
          },
          "metadata": {}
        }
      ]
    },
    {
      "cell_type": "code",
      "source": [
        "m.add_row(2,3,-2)"
      ],
      "metadata": {
        "id": "nnMuQk3wypVK",
        "outputId": "17a6efea-d95e-4d6d-bd98-f638b895252c",
        "colab": {
          "base_uri": "https://localhost:8080/",
          "height": 107
        }
      },
      "execution_count": 30,
      "outputs": [
        {
          "output_type": "display_data",
          "data": {
            "text/plain": [
              "<IPython.core.display.Markdown object>"
            ],
            "text/markdown": "**Operation:** r2 = r2 + -2*r3"
          },
          "metadata": {}
        },
        {
          "output_type": "display_data",
          "data": {
            "text/plain": [
              "<IPython.core.display.Math object>"
            ],
            "text/latex": "$\\displaystyle \n        \\left[\\begin{matrix}1 & 2 & 3\\\\0 & -1 & -3\\\\2 & 3 & 2\\end{matrix}\\right] \n        \\quad\n        \\left[\\begin{matrix}1 & 0 & 0\\\\0 & 1 & -2\\\\0 & 0 & 1\\end{matrix}\\right]\n        $"
          },
          "metadata": {}
        }
      ]
    },
    {
      "cell_type": "code",
      "source": [
        "m.add_row(3,1,-2)"
      ],
      "metadata": {
        "id": "run58rQuzOfR",
        "outputId": "4e32b405-7caa-4e38-febc-37d697fce542",
        "colab": {
          "base_uri": "https://localhost:8080/",
          "height": 107
        }
      },
      "execution_count": 31,
      "outputs": [
        {
          "output_type": "display_data",
          "data": {
            "text/plain": [
              "<IPython.core.display.Markdown object>"
            ],
            "text/markdown": "**Operation:** r3 = r3 + -2*r1"
          },
          "metadata": {}
        },
        {
          "output_type": "display_data",
          "data": {
            "text/plain": [
              "<IPython.core.display.Math object>"
            ],
            "text/latex": "$\\displaystyle \n        \\left[\\begin{matrix}1 & 2 & 3\\\\0 & -1 & -3\\\\0 & -1 & -4\\end{matrix}\\right] \n        \\quad\n        \\left[\\begin{matrix}1 & 0 & 0\\\\0 & 1 & -2\\\\-2 & 0 & 1\\end{matrix}\\right]\n        $"
          },
          "metadata": {}
        }
      ]
    },
    {
      "cell_type": "code",
      "source": [
        "m.multiply_row(2,-1)"
      ],
      "metadata": {
        "id": "o74zbVCszcHA",
        "outputId": "07424851-0ddd-4d7c-dab2-2782596a8512",
        "colab": {
          "base_uri": "https://localhost:8080/",
          "height": 107
        }
      },
      "execution_count": 32,
      "outputs": [
        {
          "output_type": "display_data",
          "data": {
            "text/plain": [
              "<IPython.core.display.Markdown object>"
            ],
            "text/markdown": "**Operation:** r2 = -1*r2"
          },
          "metadata": {}
        },
        {
          "output_type": "display_data",
          "data": {
            "text/plain": [
              "<IPython.core.display.Math object>"
            ],
            "text/latex": "$\\displaystyle \n        \\left[\\begin{matrix}1 & 2 & 3\\\\0 & 1 & 3\\\\0 & -1 & -4\\end{matrix}\\right] \n        \\quad\n        \\left[\\begin{matrix}1 & 0 & 0\\\\0 & -1 & 2\\\\-2 & 0 & 1\\end{matrix}\\right]\n        $"
          },
          "metadata": {}
        }
      ]
    },
    {
      "cell_type": "code",
      "source": [
        "m.add_row()"
      ],
      "metadata": {
        "id": "lU82pbLCz1Gj"
      },
      "execution_count": null,
      "outputs": []
    },
    {
      "cell_type": "markdown",
      "source": [
        "C."
      ],
      "metadata": {
        "id": "84Cobs0Ox9f_"
      }
    },
    {
      "cell_type": "code",
      "source": [
        "initial_matrix = [[0, 0,1], [0, 1,0],[1,0,0]]\n",
        "l = InvertibleMatrix(initial_matrix)"
      ],
      "metadata": {
        "id": "B0ENwSyWwbsc",
        "outputId": "6aa0c6a6-d7af-4bdf-b7dc-f398ce5dcf02",
        "colab": {
          "base_uri": "https://localhost:8080/",
          "height": 107
        }
      },
      "execution_count": 23,
      "outputs": [
        {
          "output_type": "display_data",
          "data": {
            "text/plain": [
              "<IPython.core.display.Markdown object>"
            ],
            "text/markdown": "**Initial Matrix (Starting matrix):**"
          },
          "metadata": {}
        },
        {
          "output_type": "display_data",
          "data": {
            "text/plain": [
              "<IPython.core.display.Math object>"
            ],
            "text/latex": "$\\displaystyle \n        \\left[\\begin{matrix}0 & 0 & 1\\\\0 & 1 & 0\\\\1 & 0 & 0\\end{matrix}\\right] \n        \\quad\n        \\left[\\begin{matrix}1 & 0 & 0\\\\0 & 1 & 0\\\\0 & 0 & 1\\end{matrix}\\right]\n        $"
          },
          "metadata": {}
        }
      ]
    },
    {
      "cell_type": "code",
      "source": [
        "l.swap_rows(1,3)"
      ],
      "metadata": {
        "id": "jSEgQgnswoF-",
        "outputId": "feaecb38-d6f9-41ac-ce85-0238cf64be2d",
        "colab": {
          "base_uri": "https://localhost:8080/",
          "height": 107
        }
      },
      "execution_count": 11,
      "outputs": [
        {
          "output_type": "display_data",
          "data": {
            "text/plain": [
              "<IPython.core.display.Markdown object>"
            ],
            "text/markdown": "**Operation:** Swap r1 <-> r3"
          },
          "metadata": {}
        },
        {
          "output_type": "display_data",
          "data": {
            "text/plain": [
              "<IPython.core.display.Math object>"
            ],
            "text/latex": "$\\displaystyle \n        \\left[\\begin{matrix}1 & 0 & 0\\\\0 & 1 & 0\\\\0 & 0 & 1\\end{matrix}\\right] \n        \\quad\n        \\left[\\begin{matrix}0 & 0 & 1\\\\0 & 1 & 0\\\\1 & 0 & 0\\end{matrix}\\right]\n        $"
          },
          "metadata": {}
        }
      ]
    }
  ],
  "metadata": {
    "kernelspec": {
      "display_name": "Python 3",
      "language": "python",
      "name": "python3"
    },
    "language_info": {
      "codemirror_mode": {
        "name": "ipython",
        "version": 3
      },
      "file_extension": ".py",
      "mimetype": "text/x-python",
      "name": "python",
      "nbconvert_exporter": "python",
      "pygments_lexer": "ipython3",
      "version": "3.11.9"
    },
    "colab": {
      "provenance": []
    }
  },
  "nbformat": 4,
  "nbformat_minor": 0
}